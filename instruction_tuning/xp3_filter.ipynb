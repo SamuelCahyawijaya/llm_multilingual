{
 "cells": [
  {
   "cell_type": "code",
   "execution_count": 1,
   "id": "0b247686-628a-4ab9-9bb6-bdcd7ddc6ae3",
   "metadata": {
    "tags": []
   },
   "outputs": [],
   "source": [
    "import pandas as pd\n",
    "import numpy as np\n",
    "import datasets"
   ]
  },
  {
   "cell_type": "code",
   "execution_count": 13,
   "id": "cf04de0b-55b5-4844-aede-8ae245ca9b60",
   "metadata": {
    "scrolled": true,
    "tags": []
   },
   "outputs": [
    {
     "name": "stderr",
     "output_type": "stream",
     "text": [
      "Found cached dataset x_p3all (/home/scahyawijaya/.cache/huggingface/datasets/bigscience___x_p3all/ak/1.0.0/7240e93470cc8229a6e4c3d42b365eca012da5d8046ad4b0e5e23ca455bda5b1)\n"
     ]
    },
    {
     "data": {
      "application/vnd.jupyter.widget-view+json": {
       "model_id": "6856470e9e914ab7a1d37042fcc31b24",
       "version_major": 2,
       "version_minor": 0
      },
      "text/plain": [
       "  0%|          | 0/1 [00:00<?, ?it/s]"
      ]
     },
     "metadata": {},
     "output_type": "display_data"
    },
    {
     "name": "stderr",
     "output_type": "stream",
     "text": [
      "Loading cached split indices for dataset at /home/scahyawijaya/.cache/huggingface/datasets/bigscience___x_p3all/ak/1.0.0/7240e93470cc8229a6e4c3d42b365eca012da5d8046ad4b0e5e23ca455bda5b1/cache-272a73e0c45cd35c.arrow and /home/scahyawijaya/.cache/huggingface/datasets/bigscience___x_p3all/ak/1.0.0/7240e93470cc8229a6e4c3d42b365eca012da5d8046ad4b0e5e23ca455bda5b1/cache-3784ec676f637655.arrow\n",
      "Found cached dataset x_p3all (/home/scahyawijaya/.cache/huggingface/datasets/bigscience___x_p3all/ar/1.0.0/7240e93470cc8229a6e4c3d42b365eca012da5d8046ad4b0e5e23ca455bda5b1)\n"
     ]
    },
    {
     "data": {
      "application/vnd.jupyter.widget-view+json": {
       "model_id": "382d47c9230246f494790daa21debecc",
       "version_major": 2,
       "version_minor": 0
      },
      "text/plain": [
       "  0%|          | 0/1 [00:00<?, ?it/s]"
      ]
     },
     "metadata": {},
     "output_type": "display_data"
    },
    {
     "name": "stderr",
     "output_type": "stream",
     "text": [
      "Loading cached split indices for dataset at /home/scahyawijaya/.cache/huggingface/datasets/bigscience___x_p3all/ar/1.0.0/7240e93470cc8229a6e4c3d42b365eca012da5d8046ad4b0e5e23ca455bda5b1/cache-28e36b10d1febaa4.arrow and /home/scahyawijaya/.cache/huggingface/datasets/bigscience___x_p3all/ar/1.0.0/7240e93470cc8229a6e4c3d42b365eca012da5d8046ad4b0e5e23ca455bda5b1/cache-e8b8d7f928d99595.arrow\n",
      "Found cached dataset x_p3all (/home/scahyawijaya/.cache/huggingface/datasets/bigscience___x_p3all/as/1.0.0/7240e93470cc8229a6e4c3d42b365eca012da5d8046ad4b0e5e23ca455bda5b1)\n"
     ]
    },
    {
     "data": {
      "application/vnd.jupyter.widget-view+json": {
       "model_id": "b89802b0781f4b30b90af1d3dda2a194",
       "version_major": 2,
       "version_minor": 0
      },
      "text/plain": [
       "  0%|          | 0/1 [00:00<?, ?it/s]"
      ]
     },
     "metadata": {},
     "output_type": "display_data"
    },
    {
     "name": "stderr",
     "output_type": "stream",
     "text": [
      "Loading cached split indices for dataset at /home/scahyawijaya/.cache/huggingface/datasets/bigscience___x_p3all/as/1.0.0/7240e93470cc8229a6e4c3d42b365eca012da5d8046ad4b0e5e23ca455bda5b1/cache-6b5a5b67ba34961b.arrow and /home/scahyawijaya/.cache/huggingface/datasets/bigscience___x_p3all/as/1.0.0/7240e93470cc8229a6e4c3d42b365eca012da5d8046ad4b0e5e23ca455bda5b1/cache-8ae2a5d5b8d02760.arrow\n",
      "Found cached dataset x_p3all (/home/scahyawijaya/.cache/huggingface/datasets/bigscience___x_p3all/bm/1.0.0/7240e93470cc8229a6e4c3d42b365eca012da5d8046ad4b0e5e23ca455bda5b1)\n"
     ]
    },
    {
     "data": {
      "application/vnd.jupyter.widget-view+json": {
       "model_id": "2d7170c2364a4cef817fbc861a40d605",
       "version_major": 2,
       "version_minor": 0
      },
      "text/plain": [
       "  0%|          | 0/1 [00:00<?, ?it/s]"
      ]
     },
     "metadata": {},
     "output_type": "display_data"
    },
    {
     "name": "stderr",
     "output_type": "stream",
     "text": [
      "Loading cached split indices for dataset at /home/scahyawijaya/.cache/huggingface/datasets/bigscience___x_p3all/bm/1.0.0/7240e93470cc8229a6e4c3d42b365eca012da5d8046ad4b0e5e23ca455bda5b1/cache-8450671b8181f299.arrow and /home/scahyawijaya/.cache/huggingface/datasets/bigscience___x_p3all/bm/1.0.0/7240e93470cc8229a6e4c3d42b365eca012da5d8046ad4b0e5e23ca455bda5b1/cache-b289dbc043f2b4c1.arrow\n",
      "Found cached dataset x_p3all (/home/scahyawijaya/.cache/huggingface/datasets/bigscience___x_p3all/bn/1.0.0/7240e93470cc8229a6e4c3d42b365eca012da5d8046ad4b0e5e23ca455bda5b1)\n"
     ]
    },
    {
     "data": {
      "application/vnd.jupyter.widget-view+json": {
       "model_id": "6601d6da271d4ba988632facfebeee0e",
       "version_major": 2,
       "version_minor": 0
      },
      "text/plain": [
       "  0%|          | 0/1 [00:00<?, ?it/s]"
      ]
     },
     "metadata": {},
     "output_type": "display_data"
    },
    {
     "name": "stderr",
     "output_type": "stream",
     "text": [
      "Loading cached split indices for dataset at /home/scahyawijaya/.cache/huggingface/datasets/bigscience___x_p3all/bn/1.0.0/7240e93470cc8229a6e4c3d42b365eca012da5d8046ad4b0e5e23ca455bda5b1/cache-8d29847c47b54dde.arrow and /home/scahyawijaya/.cache/huggingface/datasets/bigscience___x_p3all/bn/1.0.0/7240e93470cc8229a6e4c3d42b365eca012da5d8046ad4b0e5e23ca455bda5b1/cache-ed6908ca6a5dd3b1.arrow\n",
      "Found cached dataset x_p3all (/home/scahyawijaya/.cache/huggingface/datasets/bigscience___x_p3all/ca/1.0.0/7240e93470cc8229a6e4c3d42b365eca012da5d8046ad4b0e5e23ca455bda5b1)\n"
     ]
    },
    {
     "data": {
      "application/vnd.jupyter.widget-view+json": {
       "model_id": "7868f6b8a6d74a5fa1d8367e92210b60",
       "version_major": 2,
       "version_minor": 0
      },
      "text/plain": [
       "  0%|          | 0/1 [00:00<?, ?it/s]"
      ]
     },
     "metadata": {},
     "output_type": "display_data"
    },
    {
     "name": "stderr",
     "output_type": "stream",
     "text": [
      "Loading cached split indices for dataset at /home/scahyawijaya/.cache/huggingface/datasets/bigscience___x_p3all/ca/1.0.0/7240e93470cc8229a6e4c3d42b365eca012da5d8046ad4b0e5e23ca455bda5b1/cache-e4c7c74dbddebb1b.arrow and /home/scahyawijaya/.cache/huggingface/datasets/bigscience___x_p3all/ca/1.0.0/7240e93470cc8229a6e4c3d42b365eca012da5d8046ad4b0e5e23ca455bda5b1/cache-db42de7fc00bfdc4.arrow\n",
      "Found cached dataset x_p3all (/home/scahyawijaya/.cache/huggingface/datasets/bigscience___x_p3all/code/1.0.0/7240e93470cc8229a6e4c3d42b365eca012da5d8046ad4b0e5e23ca455bda5b1)\n"
     ]
    },
    {
     "data": {
      "application/vnd.jupyter.widget-view+json": {
       "model_id": "ab9ca7054da24326bea8dc9361a5d9f5",
       "version_major": 2,
       "version_minor": 0
      },
      "text/plain": [
       "  0%|          | 0/1 [00:00<?, ?it/s]"
      ]
     },
     "metadata": {},
     "output_type": "display_data"
    },
    {
     "name": "stderr",
     "output_type": "stream",
     "text": [
      "Loading cached split indices for dataset at /home/scahyawijaya/.cache/huggingface/datasets/bigscience___x_p3all/code/1.0.0/7240e93470cc8229a6e4c3d42b365eca012da5d8046ad4b0e5e23ca455bda5b1/cache-469e003fd0dbd6f6.arrow and /home/scahyawijaya/.cache/huggingface/datasets/bigscience___x_p3all/code/1.0.0/7240e93470cc8229a6e4c3d42b365eca012da5d8046ad4b0e5e23ca455bda5b1/cache-1db06c167d6ccc6e.arrow\n",
      "Found cached dataset x_p3all (/home/scahyawijaya/.cache/huggingface/datasets/bigscience___x_p3all/en/1.0.0/7240e93470cc8229a6e4c3d42b365eca012da5d8046ad4b0e5e23ca455bda5b1)\n"
     ]
    },
    {
     "data": {
      "application/vnd.jupyter.widget-view+json": {
       "model_id": "856d44e160f74c079e80d063e4fd7ac4",
       "version_major": 2,
       "version_minor": 0
      },
      "text/plain": [
       "  0%|          | 0/1 [00:00<?, ?it/s]"
      ]
     },
     "metadata": {},
     "output_type": "display_data"
    },
    {
     "name": "stderr",
     "output_type": "stream",
     "text": [
      "Loading cached split indices for dataset at /home/scahyawijaya/.cache/huggingface/datasets/bigscience___x_p3all/en/1.0.0/7240e93470cc8229a6e4c3d42b365eca012da5d8046ad4b0e5e23ca455bda5b1/cache-cb0ac952d7b93c02.arrow and /home/scahyawijaya/.cache/huggingface/datasets/bigscience___x_p3all/en/1.0.0/7240e93470cc8229a6e4c3d42b365eca012da5d8046ad4b0e5e23ca455bda5b1/cache-1079bd9faad58a65.arrow\n",
      "Found cached dataset x_p3all (/home/scahyawijaya/.cache/huggingface/datasets/bigscience___x_p3all/es/1.0.0/7240e93470cc8229a6e4c3d42b365eca012da5d8046ad4b0e5e23ca455bda5b1)\n"
     ]
    },
    {
     "data": {
      "application/vnd.jupyter.widget-view+json": {
       "model_id": "bf785158f809420987430be53c97d791",
       "version_major": 2,
       "version_minor": 0
      },
      "text/plain": [
       "  0%|          | 0/1 [00:00<?, ?it/s]"
      ]
     },
     "metadata": {},
     "output_type": "display_data"
    },
    {
     "name": "stderr",
     "output_type": "stream",
     "text": [
      "Loading cached split indices for dataset at /home/scahyawijaya/.cache/huggingface/datasets/bigscience___x_p3all/es/1.0.0/7240e93470cc8229a6e4c3d42b365eca012da5d8046ad4b0e5e23ca455bda5b1/cache-124452336a637d0e.arrow and /home/scahyawijaya/.cache/huggingface/datasets/bigscience___x_p3all/es/1.0.0/7240e93470cc8229a6e4c3d42b365eca012da5d8046ad4b0e5e23ca455bda5b1/cache-b544db97c546c526.arrow\n",
      "Found cached dataset x_p3all (/home/scahyawijaya/.cache/huggingface/datasets/bigscience___x_p3all/eu/1.0.0/7240e93470cc8229a6e4c3d42b365eca012da5d8046ad4b0e5e23ca455bda5b1)\n"
     ]
    },
    {
     "data": {
      "application/vnd.jupyter.widget-view+json": {
       "model_id": "0267f44ae2714a2893814d7ffce66b64",
       "version_major": 2,
       "version_minor": 0
      },
      "text/plain": [
       "  0%|          | 0/1 [00:00<?, ?it/s]"
      ]
     },
     "metadata": {},
     "output_type": "display_data"
    },
    {
     "name": "stderr",
     "output_type": "stream",
     "text": [
      "Loading cached split indices for dataset at /home/scahyawijaya/.cache/huggingface/datasets/bigscience___x_p3all/eu/1.0.0/7240e93470cc8229a6e4c3d42b365eca012da5d8046ad4b0e5e23ca455bda5b1/cache-504188781e977305.arrow and /home/scahyawijaya/.cache/huggingface/datasets/bigscience___x_p3all/eu/1.0.0/7240e93470cc8229a6e4c3d42b365eca012da5d8046ad4b0e5e23ca455bda5b1/cache-db0f8041eb528226.arrow\n",
      "Found cached dataset x_p3all (/home/scahyawijaya/.cache/huggingface/datasets/bigscience___x_p3all/fon/1.0.0/7240e93470cc8229a6e4c3d42b365eca012da5d8046ad4b0e5e23ca455bda5b1)\n"
     ]
    },
    {
     "data": {
      "application/vnd.jupyter.widget-view+json": {
       "model_id": "cc3cc59690d74538b3f35e8ec75bf712",
       "version_major": 2,
       "version_minor": 0
      },
      "text/plain": [
       "  0%|          | 0/1 [00:00<?, ?it/s]"
      ]
     },
     "metadata": {},
     "output_type": "display_data"
    },
    {
     "name": "stderr",
     "output_type": "stream",
     "text": [
      "Loading cached split indices for dataset at /home/scahyawijaya/.cache/huggingface/datasets/bigscience___x_p3all/fon/1.0.0/7240e93470cc8229a6e4c3d42b365eca012da5d8046ad4b0e5e23ca455bda5b1/cache-f40d814334cedb7b.arrow and /home/scahyawijaya/.cache/huggingface/datasets/bigscience___x_p3all/fon/1.0.0/7240e93470cc8229a6e4c3d42b365eca012da5d8046ad4b0e5e23ca455bda5b1/cache-9b84d30d0f5c7eb3.arrow\n",
      "Found cached dataset x_p3all (/home/scahyawijaya/.cache/huggingface/datasets/bigscience___x_p3all/fr/1.0.0/7240e93470cc8229a6e4c3d42b365eca012da5d8046ad4b0e5e23ca455bda5b1)\n"
     ]
    },
    {
     "data": {
      "application/vnd.jupyter.widget-view+json": {
       "model_id": "b60c0d4160b841d39acb87f0e6e35067",
       "version_major": 2,
       "version_minor": 0
      },
      "text/plain": [
       "  0%|          | 0/1 [00:00<?, ?it/s]"
      ]
     },
     "metadata": {},
     "output_type": "display_data"
    },
    {
     "name": "stderr",
     "output_type": "stream",
     "text": [
      "Loading cached split indices for dataset at /home/scahyawijaya/.cache/huggingface/datasets/bigscience___x_p3all/fr/1.0.0/7240e93470cc8229a6e4c3d42b365eca012da5d8046ad4b0e5e23ca455bda5b1/cache-cd8ce4c4430b7477.arrow and /home/scahyawijaya/.cache/huggingface/datasets/bigscience___x_p3all/fr/1.0.0/7240e93470cc8229a6e4c3d42b365eca012da5d8046ad4b0e5e23ca455bda5b1/cache-8fd00f5c220fe249.arrow\n",
      "Found cached dataset x_p3all (/home/scahyawijaya/.cache/huggingface/datasets/bigscience___x_p3all/gu/1.0.0/7240e93470cc8229a6e4c3d42b365eca012da5d8046ad4b0e5e23ca455bda5b1)\n"
     ]
    },
    {
     "data": {
      "application/vnd.jupyter.widget-view+json": {
       "model_id": "a1f2a1db73794055889841a6676e5b03",
       "version_major": 2,
       "version_minor": 0
      },
      "text/plain": [
       "  0%|          | 0/1 [00:00<?, ?it/s]"
      ]
     },
     "metadata": {},
     "output_type": "display_data"
    },
    {
     "name": "stderr",
     "output_type": "stream",
     "text": [
      "Loading cached split indices for dataset at /home/scahyawijaya/.cache/huggingface/datasets/bigscience___x_p3all/gu/1.0.0/7240e93470cc8229a6e4c3d42b365eca012da5d8046ad4b0e5e23ca455bda5b1/cache-a6225ef446b46b51.arrow and /home/scahyawijaya/.cache/huggingface/datasets/bigscience___x_p3all/gu/1.0.0/7240e93470cc8229a6e4c3d42b365eca012da5d8046ad4b0e5e23ca455bda5b1/cache-b7a3b2a19dd69e8a.arrow\n",
      "Found cached dataset x_p3all (/home/scahyawijaya/.cache/huggingface/datasets/bigscience___x_p3all/hi/1.0.0/7240e93470cc8229a6e4c3d42b365eca012da5d8046ad4b0e5e23ca455bda5b1)\n"
     ]
    },
    {
     "data": {
      "application/vnd.jupyter.widget-view+json": {
       "model_id": "e2f9990c019a4bd0a0c95c1142bb4c94",
       "version_major": 2,
       "version_minor": 0
      },
      "text/plain": [
       "  0%|          | 0/1 [00:00<?, ?it/s]"
      ]
     },
     "metadata": {},
     "output_type": "display_data"
    },
    {
     "name": "stderr",
     "output_type": "stream",
     "text": [
      "Loading cached split indices for dataset at /home/scahyawijaya/.cache/huggingface/datasets/bigscience___x_p3all/hi/1.0.0/7240e93470cc8229a6e4c3d42b365eca012da5d8046ad4b0e5e23ca455bda5b1/cache-2ea1952315c7836b.arrow and /home/scahyawijaya/.cache/huggingface/datasets/bigscience___x_p3all/hi/1.0.0/7240e93470cc8229a6e4c3d42b365eca012da5d8046ad4b0e5e23ca455bda5b1/cache-17c1247963e460fc.arrow\n",
      "Found cached dataset x_p3all (/home/scahyawijaya/.cache/huggingface/datasets/bigscience___x_p3all/id/1.0.0/7240e93470cc8229a6e4c3d42b365eca012da5d8046ad4b0e5e23ca455bda5b1)\n"
     ]
    },
    {
     "data": {
      "application/vnd.jupyter.widget-view+json": {
       "model_id": "a8e6a7794371464db7aa594dd9db2d53",
       "version_major": 2,
       "version_minor": 0
      },
      "text/plain": [
       "  0%|          | 0/1 [00:00<?, ?it/s]"
      ]
     },
     "metadata": {},
     "output_type": "display_data"
    },
    {
     "name": "stderr",
     "output_type": "stream",
     "text": [
      "Loading cached split indices for dataset at /home/scahyawijaya/.cache/huggingface/datasets/bigscience___x_p3all/id/1.0.0/7240e93470cc8229a6e4c3d42b365eca012da5d8046ad4b0e5e23ca455bda5b1/cache-244580464dab15a2.arrow and /home/scahyawijaya/.cache/huggingface/datasets/bigscience___x_p3all/id/1.0.0/7240e93470cc8229a6e4c3d42b365eca012da5d8046ad4b0e5e23ca455bda5b1/cache-7821ac8260a34bc0.arrow\n",
      "Found cached dataset x_p3all (/home/scahyawijaya/.cache/huggingface/datasets/bigscience___x_p3all/ig/1.0.0/7240e93470cc8229a6e4c3d42b365eca012da5d8046ad4b0e5e23ca455bda5b1)\n"
     ]
    },
    {
     "data": {
      "application/vnd.jupyter.widget-view+json": {
       "model_id": "c3b9d92a1d71451fb74f2b1e3e60c4cb",
       "version_major": 2,
       "version_minor": 0
      },
      "text/plain": [
       "  0%|          | 0/1 [00:00<?, ?it/s]"
      ]
     },
     "metadata": {},
     "output_type": "display_data"
    },
    {
     "name": "stderr",
     "output_type": "stream",
     "text": [
      "Loading cached split indices for dataset at /home/scahyawijaya/.cache/huggingface/datasets/bigscience___x_p3all/ig/1.0.0/7240e93470cc8229a6e4c3d42b365eca012da5d8046ad4b0e5e23ca455bda5b1/cache-1a295cad35723376.arrow and /home/scahyawijaya/.cache/huggingface/datasets/bigscience___x_p3all/ig/1.0.0/7240e93470cc8229a6e4c3d42b365eca012da5d8046ad4b0e5e23ca455bda5b1/cache-5751cb5b878388bb.arrow\n",
      "Found cached dataset x_p3all (/home/scahyawijaya/.cache/huggingface/datasets/bigscience___x_p3all/ki/1.0.0/7240e93470cc8229a6e4c3d42b365eca012da5d8046ad4b0e5e23ca455bda5b1)\n"
     ]
    },
    {
     "data": {
      "application/vnd.jupyter.widget-view+json": {
       "model_id": "2cc84fef66b946d693b31d0e70be0527",
       "version_major": 2,
       "version_minor": 0
      },
      "text/plain": [
       "  0%|          | 0/1 [00:00<?, ?it/s]"
      ]
     },
     "metadata": {},
     "output_type": "display_data"
    },
    {
     "name": "stderr",
     "output_type": "stream",
     "text": [
      "Loading cached split indices for dataset at /home/scahyawijaya/.cache/huggingface/datasets/bigscience___x_p3all/ki/1.0.0/7240e93470cc8229a6e4c3d42b365eca012da5d8046ad4b0e5e23ca455bda5b1/cache-9941df877ea8e5b2.arrow and /home/scahyawijaya/.cache/huggingface/datasets/bigscience___x_p3all/ki/1.0.0/7240e93470cc8229a6e4c3d42b365eca012da5d8046ad4b0e5e23ca455bda5b1/cache-636b2ab892a59495.arrow\n",
      "Found cached dataset x_p3all (/home/scahyawijaya/.cache/huggingface/datasets/bigscience___x_p3all/kn/1.0.0/7240e93470cc8229a6e4c3d42b365eca012da5d8046ad4b0e5e23ca455bda5b1)\n"
     ]
    },
    {
     "data": {
      "application/vnd.jupyter.widget-view+json": {
       "model_id": "1958cbb4f7ff4ba3a7c34404b82a6779",
       "version_major": 2,
       "version_minor": 0
      },
      "text/plain": [
       "  0%|          | 0/1 [00:00<?, ?it/s]"
      ]
     },
     "metadata": {},
     "output_type": "display_data"
    },
    {
     "name": "stderr",
     "output_type": "stream",
     "text": [
      "Loading cached split indices for dataset at /home/scahyawijaya/.cache/huggingface/datasets/bigscience___x_p3all/kn/1.0.0/7240e93470cc8229a6e4c3d42b365eca012da5d8046ad4b0e5e23ca455bda5b1/cache-bf7deb056c1c1530.arrow and /home/scahyawijaya/.cache/huggingface/datasets/bigscience___x_p3all/kn/1.0.0/7240e93470cc8229a6e4c3d42b365eca012da5d8046ad4b0e5e23ca455bda5b1/cache-501a72ff5eea00b2.arrow\n",
      "Found cached dataset x_p3all (/home/scahyawijaya/.cache/huggingface/datasets/bigscience___x_p3all/lg/1.0.0/7240e93470cc8229a6e4c3d42b365eca012da5d8046ad4b0e5e23ca455bda5b1)\n"
     ]
    },
    {
     "data": {
      "application/vnd.jupyter.widget-view+json": {
       "model_id": "ba80d8ba30ce46c4a9f7858f23546cdb",
       "version_major": 2,
       "version_minor": 0
      },
      "text/plain": [
       "  0%|          | 0/1 [00:00<?, ?it/s]"
      ]
     },
     "metadata": {},
     "output_type": "display_data"
    },
    {
     "name": "stderr",
     "output_type": "stream",
     "text": [
      "Loading cached split indices for dataset at /home/scahyawijaya/.cache/huggingface/datasets/bigscience___x_p3all/lg/1.0.0/7240e93470cc8229a6e4c3d42b365eca012da5d8046ad4b0e5e23ca455bda5b1/cache-e6ee797f0885c943.arrow and /home/scahyawijaya/.cache/huggingface/datasets/bigscience___x_p3all/lg/1.0.0/7240e93470cc8229a6e4c3d42b365eca012da5d8046ad4b0e5e23ca455bda5b1/cache-dc997aa82d4f01e0.arrow\n",
      "Found cached dataset x_p3all (/home/scahyawijaya/.cache/huggingface/datasets/bigscience___x_p3all/ln/1.0.0/7240e93470cc8229a6e4c3d42b365eca012da5d8046ad4b0e5e23ca455bda5b1)\n"
     ]
    },
    {
     "data": {
      "application/vnd.jupyter.widget-view+json": {
       "model_id": "ea46b506514b4e8080b7d293f3f4654a",
       "version_major": 2,
       "version_minor": 0
      },
      "text/plain": [
       "  0%|          | 0/1 [00:00<?, ?it/s]"
      ]
     },
     "metadata": {},
     "output_type": "display_data"
    },
    {
     "name": "stderr",
     "output_type": "stream",
     "text": [
      "Loading cached split indices for dataset at /home/scahyawijaya/.cache/huggingface/datasets/bigscience___x_p3all/ln/1.0.0/7240e93470cc8229a6e4c3d42b365eca012da5d8046ad4b0e5e23ca455bda5b1/cache-b8e899badd0495ab.arrow and /home/scahyawijaya/.cache/huggingface/datasets/bigscience___x_p3all/ln/1.0.0/7240e93470cc8229a6e4c3d42b365eca012da5d8046ad4b0e5e23ca455bda5b1/cache-32798e148fa44175.arrow\n",
      "Found cached dataset x_p3all (/home/scahyawijaya/.cache/huggingface/datasets/bigscience___x_p3all/ml/1.0.0/7240e93470cc8229a6e4c3d42b365eca012da5d8046ad4b0e5e23ca455bda5b1)\n"
     ]
    },
    {
     "data": {
      "application/vnd.jupyter.widget-view+json": {
       "model_id": "c24ba06b84a74c42839460fe3e8a4b1b",
       "version_major": 2,
       "version_minor": 0
      },
      "text/plain": [
       "  0%|          | 0/1 [00:00<?, ?it/s]"
      ]
     },
     "metadata": {},
     "output_type": "display_data"
    },
    {
     "name": "stderr",
     "output_type": "stream",
     "text": [
      "Loading cached split indices for dataset at /home/scahyawijaya/.cache/huggingface/datasets/bigscience___x_p3all/ml/1.0.0/7240e93470cc8229a6e4c3d42b365eca012da5d8046ad4b0e5e23ca455bda5b1/cache-78ece83b1962d791.arrow and /home/scahyawijaya/.cache/huggingface/datasets/bigscience___x_p3all/ml/1.0.0/7240e93470cc8229a6e4c3d42b365eca012da5d8046ad4b0e5e23ca455bda5b1/cache-c2442abad8fbfb61.arrow\n",
      "Found cached dataset x_p3all (/home/scahyawijaya/.cache/huggingface/datasets/bigscience___x_p3all/mr/1.0.0/7240e93470cc8229a6e4c3d42b365eca012da5d8046ad4b0e5e23ca455bda5b1)\n"
     ]
    },
    {
     "data": {
      "application/vnd.jupyter.widget-view+json": {
       "model_id": "077b20ba1ac649d6a23bbdd73a5dd2f1",
       "version_major": 2,
       "version_minor": 0
      },
      "text/plain": [
       "  0%|          | 0/1 [00:00<?, ?it/s]"
      ]
     },
     "metadata": {},
     "output_type": "display_data"
    },
    {
     "name": "stderr",
     "output_type": "stream",
     "text": [
      "Loading cached split indices for dataset at /home/scahyawijaya/.cache/huggingface/datasets/bigscience___x_p3all/mr/1.0.0/7240e93470cc8229a6e4c3d42b365eca012da5d8046ad4b0e5e23ca455bda5b1/cache-90f3fbbfe4c2dbff.arrow and /home/scahyawijaya/.cache/huggingface/datasets/bigscience___x_p3all/mr/1.0.0/7240e93470cc8229a6e4c3d42b365eca012da5d8046ad4b0e5e23ca455bda5b1/cache-4780a5ee56f38bf9.arrow\n",
      "Found cached dataset x_p3all (/home/scahyawijaya/.cache/huggingface/datasets/bigscience___x_p3all/ne/1.0.0/7240e93470cc8229a6e4c3d42b365eca012da5d8046ad4b0e5e23ca455bda5b1)\n"
     ]
    },
    {
     "data": {
      "application/vnd.jupyter.widget-view+json": {
       "model_id": "c991201b832842faae330f942e2ccb27",
       "version_major": 2,
       "version_minor": 0
      },
      "text/plain": [
       "  0%|          | 0/1 [00:00<?, ?it/s]"
      ]
     },
     "metadata": {},
     "output_type": "display_data"
    },
    {
     "name": "stderr",
     "output_type": "stream",
     "text": [
      "Loading cached split indices for dataset at /home/scahyawijaya/.cache/huggingface/datasets/bigscience___x_p3all/ne/1.0.0/7240e93470cc8229a6e4c3d42b365eca012da5d8046ad4b0e5e23ca455bda5b1/cache-ec22eb9846a97d07.arrow and /home/scahyawijaya/.cache/huggingface/datasets/bigscience___x_p3all/ne/1.0.0/7240e93470cc8229a6e4c3d42b365eca012da5d8046ad4b0e5e23ca455bda5b1/cache-e0de3f4a428b465c.arrow\n",
      "Found cached dataset x_p3all (/home/scahyawijaya/.cache/huggingface/datasets/bigscience___x_p3all/nso/1.0.0/7240e93470cc8229a6e4c3d42b365eca012da5d8046ad4b0e5e23ca455bda5b1)\n"
     ]
    },
    {
     "data": {
      "application/vnd.jupyter.widget-view+json": {
       "model_id": "f7dd5e28e3c349ab9a4a480fb7d19e9b",
       "version_major": 2,
       "version_minor": 0
      },
      "text/plain": [
       "  0%|          | 0/1 [00:00<?, ?it/s]"
      ]
     },
     "metadata": {},
     "output_type": "display_data"
    },
    {
     "name": "stderr",
     "output_type": "stream",
     "text": [
      "Loading cached split indices for dataset at /home/scahyawijaya/.cache/huggingface/datasets/bigscience___x_p3all/nso/1.0.0/7240e93470cc8229a6e4c3d42b365eca012da5d8046ad4b0e5e23ca455bda5b1/cache-aae9b9025b599538.arrow and /home/scahyawijaya/.cache/huggingface/datasets/bigscience___x_p3all/nso/1.0.0/7240e93470cc8229a6e4c3d42b365eca012da5d8046ad4b0e5e23ca455bda5b1/cache-d542863fe5675e62.arrow\n",
      "Found cached dataset x_p3all (/home/scahyawijaya/.cache/huggingface/datasets/bigscience___x_p3all/ny/1.0.0/7240e93470cc8229a6e4c3d42b365eca012da5d8046ad4b0e5e23ca455bda5b1)\n"
     ]
    },
    {
     "data": {
      "application/vnd.jupyter.widget-view+json": {
       "model_id": "2f196e3fb0494b59a3e263ddc12204fe",
       "version_major": 2,
       "version_minor": 0
      },
      "text/plain": [
       "  0%|          | 0/1 [00:00<?, ?it/s]"
      ]
     },
     "metadata": {},
     "output_type": "display_data"
    },
    {
     "name": "stderr",
     "output_type": "stream",
     "text": [
      "Loading cached split indices for dataset at /home/scahyawijaya/.cache/huggingface/datasets/bigscience___x_p3all/ny/1.0.0/7240e93470cc8229a6e4c3d42b365eca012da5d8046ad4b0e5e23ca455bda5b1/cache-241e74dee504ecc8.arrow and /home/scahyawijaya/.cache/huggingface/datasets/bigscience___x_p3all/ny/1.0.0/7240e93470cc8229a6e4c3d42b365eca012da5d8046ad4b0e5e23ca455bda5b1/cache-9737846fc5052d4a.arrow\n",
      "Found cached dataset x_p3all (/home/scahyawijaya/.cache/huggingface/datasets/bigscience___x_p3all/or/1.0.0/7240e93470cc8229a6e4c3d42b365eca012da5d8046ad4b0e5e23ca455bda5b1)\n"
     ]
    },
    {
     "data": {
      "application/vnd.jupyter.widget-view+json": {
       "model_id": "224f014dfa1d429da8f1517ddaaa52c6",
       "version_major": 2,
       "version_minor": 0
      },
      "text/plain": [
       "  0%|          | 0/1 [00:00<?, ?it/s]"
      ]
     },
     "metadata": {},
     "output_type": "display_data"
    },
    {
     "name": "stderr",
     "output_type": "stream",
     "text": [
      "Loading cached split indices for dataset at /home/scahyawijaya/.cache/huggingface/datasets/bigscience___x_p3all/or/1.0.0/7240e93470cc8229a6e4c3d42b365eca012da5d8046ad4b0e5e23ca455bda5b1/cache-7ef9e922e3b5ff3e.arrow and /home/scahyawijaya/.cache/huggingface/datasets/bigscience___x_p3all/or/1.0.0/7240e93470cc8229a6e4c3d42b365eca012da5d8046ad4b0e5e23ca455bda5b1/cache-6d1d1e29734b0fb4.arrow\n",
      "Found cached dataset x_p3all (/home/scahyawijaya/.cache/huggingface/datasets/bigscience___x_p3all/pa/1.0.0/7240e93470cc8229a6e4c3d42b365eca012da5d8046ad4b0e5e23ca455bda5b1)\n"
     ]
    },
    {
     "data": {
      "application/vnd.jupyter.widget-view+json": {
       "model_id": "f80fdb20e3fb45fa9aec0fedd711eb88",
       "version_major": 2,
       "version_minor": 0
      },
      "text/plain": [
       "  0%|          | 0/1 [00:00<?, ?it/s]"
      ]
     },
     "metadata": {},
     "output_type": "display_data"
    },
    {
     "name": "stderr",
     "output_type": "stream",
     "text": [
      "Loading cached split indices for dataset at /home/scahyawijaya/.cache/huggingface/datasets/bigscience___x_p3all/pa/1.0.0/7240e93470cc8229a6e4c3d42b365eca012da5d8046ad4b0e5e23ca455bda5b1/cache-7a5097cd6e3e818d.arrow and /home/scahyawijaya/.cache/huggingface/datasets/bigscience___x_p3all/pa/1.0.0/7240e93470cc8229a6e4c3d42b365eca012da5d8046ad4b0e5e23ca455bda5b1/cache-6d552a47cccdca13.arrow\n",
      "Found cached dataset x_p3all (/home/scahyawijaya/.cache/huggingface/datasets/bigscience___x_p3all/pt/1.0.0/7240e93470cc8229a6e4c3d42b365eca012da5d8046ad4b0e5e23ca455bda5b1)\n"
     ]
    },
    {
     "data": {
      "application/vnd.jupyter.widget-view+json": {
       "model_id": "b5b670c6aef646f59bdc48c11b741712",
       "version_major": 2,
       "version_minor": 0
      },
      "text/plain": [
       "  0%|          | 0/1 [00:00<?, ?it/s]"
      ]
     },
     "metadata": {},
     "output_type": "display_data"
    },
    {
     "name": "stderr",
     "output_type": "stream",
     "text": [
      "Loading cached split indices for dataset at /home/scahyawijaya/.cache/huggingface/datasets/bigscience___x_p3all/pt/1.0.0/7240e93470cc8229a6e4c3d42b365eca012da5d8046ad4b0e5e23ca455bda5b1/cache-989ec4471d571391.arrow and /home/scahyawijaya/.cache/huggingface/datasets/bigscience___x_p3all/pt/1.0.0/7240e93470cc8229a6e4c3d42b365eca012da5d8046ad4b0e5e23ca455bda5b1/cache-11e7c052eece4347.arrow\n",
      "Found cached dataset x_p3all (/home/scahyawijaya/.cache/huggingface/datasets/bigscience___x_p3all/rn/1.0.0/7240e93470cc8229a6e4c3d42b365eca012da5d8046ad4b0e5e23ca455bda5b1)\n"
     ]
    },
    {
     "data": {
      "application/vnd.jupyter.widget-view+json": {
       "model_id": "c16b4858022d4ef2a1d5f681ee863d7d",
       "version_major": 2,
       "version_minor": 0
      },
      "text/plain": [
       "  0%|          | 0/1 [00:00<?, ?it/s]"
      ]
     },
     "metadata": {},
     "output_type": "display_data"
    },
    {
     "name": "stderr",
     "output_type": "stream",
     "text": [
      "Loading cached split indices for dataset at /home/scahyawijaya/.cache/huggingface/datasets/bigscience___x_p3all/rn/1.0.0/7240e93470cc8229a6e4c3d42b365eca012da5d8046ad4b0e5e23ca455bda5b1/cache-e746472cc901c4a8.arrow and /home/scahyawijaya/.cache/huggingface/datasets/bigscience___x_p3all/rn/1.0.0/7240e93470cc8229a6e4c3d42b365eca012da5d8046ad4b0e5e23ca455bda5b1/cache-1d98cc11734282cf.arrow\n",
      "Found cached dataset x_p3all (/home/scahyawijaya/.cache/huggingface/datasets/bigscience___x_p3all/rw/1.0.0/7240e93470cc8229a6e4c3d42b365eca012da5d8046ad4b0e5e23ca455bda5b1)\n"
     ]
    },
    {
     "data": {
      "application/vnd.jupyter.widget-view+json": {
       "model_id": "a442d719cbaf4269917703d08bce7c6c",
       "version_major": 2,
       "version_minor": 0
      },
      "text/plain": [
       "  0%|          | 0/1 [00:00<?, ?it/s]"
      ]
     },
     "metadata": {},
     "output_type": "display_data"
    },
    {
     "name": "stderr",
     "output_type": "stream",
     "text": [
      "Loading cached split indices for dataset at /home/scahyawijaya/.cache/huggingface/datasets/bigscience___x_p3all/rw/1.0.0/7240e93470cc8229a6e4c3d42b365eca012da5d8046ad4b0e5e23ca455bda5b1/cache-c006d349ea32e678.arrow and /home/scahyawijaya/.cache/huggingface/datasets/bigscience___x_p3all/rw/1.0.0/7240e93470cc8229a6e4c3d42b365eca012da5d8046ad4b0e5e23ca455bda5b1/cache-ef5bf5c7f1026805.arrow\n",
      "Found cached dataset x_p3all (/home/scahyawijaya/.cache/huggingface/datasets/bigscience___x_p3all/sn/1.0.0/7240e93470cc8229a6e4c3d42b365eca012da5d8046ad4b0e5e23ca455bda5b1)\n"
     ]
    },
    {
     "data": {
      "application/vnd.jupyter.widget-view+json": {
       "model_id": "8207b97ba69f405980bdf5a7b57ec2db",
       "version_major": 2,
       "version_minor": 0
      },
      "text/plain": [
       "  0%|          | 0/1 [00:00<?, ?it/s]"
      ]
     },
     "metadata": {},
     "output_type": "display_data"
    },
    {
     "name": "stderr",
     "output_type": "stream",
     "text": [
      "Loading cached split indices for dataset at /home/scahyawijaya/.cache/huggingface/datasets/bigscience___x_p3all/sn/1.0.0/7240e93470cc8229a6e4c3d42b365eca012da5d8046ad4b0e5e23ca455bda5b1/cache-0d2ce772f29dd3cb.arrow and /home/scahyawijaya/.cache/huggingface/datasets/bigscience___x_p3all/sn/1.0.0/7240e93470cc8229a6e4c3d42b365eca012da5d8046ad4b0e5e23ca455bda5b1/cache-7fea33a8cf38234b.arrow\n",
      "Found cached dataset x_p3all (/home/scahyawijaya/.cache/huggingface/datasets/bigscience___x_p3all/st/1.0.0/7240e93470cc8229a6e4c3d42b365eca012da5d8046ad4b0e5e23ca455bda5b1)\n"
     ]
    },
    {
     "data": {
      "application/vnd.jupyter.widget-view+json": {
       "model_id": "78d66cc714834adcbe228404d01c32c4",
       "version_major": 2,
       "version_minor": 0
      },
      "text/plain": [
       "  0%|          | 0/1 [00:00<?, ?it/s]"
      ]
     },
     "metadata": {},
     "output_type": "display_data"
    },
    {
     "name": "stderr",
     "output_type": "stream",
     "text": [
      "Loading cached split indices for dataset at /home/scahyawijaya/.cache/huggingface/datasets/bigscience___x_p3all/st/1.0.0/7240e93470cc8229a6e4c3d42b365eca012da5d8046ad4b0e5e23ca455bda5b1/cache-dc716be424aeaf6b.arrow and /home/scahyawijaya/.cache/huggingface/datasets/bigscience___x_p3all/st/1.0.0/7240e93470cc8229a6e4c3d42b365eca012da5d8046ad4b0e5e23ca455bda5b1/cache-45e3861b1e68903d.arrow\n",
      "Found cached dataset x_p3all (/home/scahyawijaya/.cache/huggingface/datasets/bigscience___x_p3all/sw/1.0.0/7240e93470cc8229a6e4c3d42b365eca012da5d8046ad4b0e5e23ca455bda5b1)\n"
     ]
    },
    {
     "data": {
      "application/vnd.jupyter.widget-view+json": {
       "model_id": "999fcb8774cd4d5faa2019d9d04b31d1",
       "version_major": 2,
       "version_minor": 0
      },
      "text/plain": [
       "  0%|          | 0/1 [00:00<?, ?it/s]"
      ]
     },
     "metadata": {},
     "output_type": "display_data"
    },
    {
     "name": "stderr",
     "output_type": "stream",
     "text": [
      "Loading cached split indices for dataset at /home/scahyawijaya/.cache/huggingface/datasets/bigscience___x_p3all/sw/1.0.0/7240e93470cc8229a6e4c3d42b365eca012da5d8046ad4b0e5e23ca455bda5b1/cache-45b2ff891b5e9fc9.arrow and /home/scahyawijaya/.cache/huggingface/datasets/bigscience___x_p3all/sw/1.0.0/7240e93470cc8229a6e4c3d42b365eca012da5d8046ad4b0e5e23ca455bda5b1/cache-040f2145aa0c4801.arrow\n",
      "Found cached dataset x_p3all (/home/scahyawijaya/.cache/huggingface/datasets/bigscience___x_p3all/ta/1.0.0/7240e93470cc8229a6e4c3d42b365eca012da5d8046ad4b0e5e23ca455bda5b1)\n"
     ]
    },
    {
     "data": {
      "application/vnd.jupyter.widget-view+json": {
       "model_id": "4b85c5f6ecb043738cb844d3ad8f501f",
       "version_major": 2,
       "version_minor": 0
      },
      "text/plain": [
       "  0%|          | 0/1 [00:00<?, ?it/s]"
      ]
     },
     "metadata": {},
     "output_type": "display_data"
    },
    {
     "name": "stderr",
     "output_type": "stream",
     "text": [
      "Loading cached split indices for dataset at /home/scahyawijaya/.cache/huggingface/datasets/bigscience___x_p3all/ta/1.0.0/7240e93470cc8229a6e4c3d42b365eca012da5d8046ad4b0e5e23ca455bda5b1/cache-64794465608f2091.arrow and /home/scahyawijaya/.cache/huggingface/datasets/bigscience___x_p3all/ta/1.0.0/7240e93470cc8229a6e4c3d42b365eca012da5d8046ad4b0e5e23ca455bda5b1/cache-8cc8ea527a96d05a.arrow\n",
      "Found cached dataset x_p3all (/home/scahyawijaya/.cache/huggingface/datasets/bigscience___x_p3all/te/1.0.0/7240e93470cc8229a6e4c3d42b365eca012da5d8046ad4b0e5e23ca455bda5b1)\n"
     ]
    },
    {
     "data": {
      "application/vnd.jupyter.widget-view+json": {
       "model_id": "a9b26b99ab5c4202a23242694b5f73b3",
       "version_major": 2,
       "version_minor": 0
      },
      "text/plain": [
       "  0%|          | 0/1 [00:00<?, ?it/s]"
      ]
     },
     "metadata": {},
     "output_type": "display_data"
    },
    {
     "name": "stderr",
     "output_type": "stream",
     "text": [
      "Loading cached split indices for dataset at /home/scahyawijaya/.cache/huggingface/datasets/bigscience___x_p3all/te/1.0.0/7240e93470cc8229a6e4c3d42b365eca012da5d8046ad4b0e5e23ca455bda5b1/cache-ceced356fb286e3e.arrow and /home/scahyawijaya/.cache/huggingface/datasets/bigscience___x_p3all/te/1.0.0/7240e93470cc8229a6e4c3d42b365eca012da5d8046ad4b0e5e23ca455bda5b1/cache-2cda81e22aeacdf2.arrow\n",
      "Found cached dataset x_p3all (/home/scahyawijaya/.cache/huggingface/datasets/bigscience___x_p3all/tn/1.0.0/7240e93470cc8229a6e4c3d42b365eca012da5d8046ad4b0e5e23ca455bda5b1)\n"
     ]
    },
    {
     "data": {
      "application/vnd.jupyter.widget-view+json": {
       "model_id": "3570bda13bda4c9f9616651c0c049b79",
       "version_major": 2,
       "version_minor": 0
      },
      "text/plain": [
       "  0%|          | 0/1 [00:00<?, ?it/s]"
      ]
     },
     "metadata": {},
     "output_type": "display_data"
    },
    {
     "name": "stderr",
     "output_type": "stream",
     "text": [
      "Loading cached split indices for dataset at /home/scahyawijaya/.cache/huggingface/datasets/bigscience___x_p3all/tn/1.0.0/7240e93470cc8229a6e4c3d42b365eca012da5d8046ad4b0e5e23ca455bda5b1/cache-c4e73d1b00cb5997.arrow and /home/scahyawijaya/.cache/huggingface/datasets/bigscience___x_p3all/tn/1.0.0/7240e93470cc8229a6e4c3d42b365eca012da5d8046ad4b0e5e23ca455bda5b1/cache-72e41496b909a9d4.arrow\n",
      "Found cached dataset x_p3all (/home/scahyawijaya/.cache/huggingface/datasets/bigscience___x_p3all/ts/1.0.0/7240e93470cc8229a6e4c3d42b365eca012da5d8046ad4b0e5e23ca455bda5b1)\n"
     ]
    },
    {
     "data": {
      "application/vnd.jupyter.widget-view+json": {
       "model_id": "20132a33e0dc4791ac11f22b1a384e8a",
       "version_major": 2,
       "version_minor": 0
      },
      "text/plain": [
       "  0%|          | 0/1 [00:00<?, ?it/s]"
      ]
     },
     "metadata": {},
     "output_type": "display_data"
    },
    {
     "name": "stderr",
     "output_type": "stream",
     "text": [
      "Loading cached split indices for dataset at /home/scahyawijaya/.cache/huggingface/datasets/bigscience___x_p3all/ts/1.0.0/7240e93470cc8229a6e4c3d42b365eca012da5d8046ad4b0e5e23ca455bda5b1/cache-41d1afeee9b5ac71.arrow and /home/scahyawijaya/.cache/huggingface/datasets/bigscience___x_p3all/ts/1.0.0/7240e93470cc8229a6e4c3d42b365eca012da5d8046ad4b0e5e23ca455bda5b1/cache-ef53ce255f6a0036.arrow\n",
      "Found cached dataset x_p3all (/home/scahyawijaya/.cache/huggingface/datasets/bigscience___x_p3all/tum/1.0.0/7240e93470cc8229a6e4c3d42b365eca012da5d8046ad4b0e5e23ca455bda5b1)\n"
     ]
    },
    {
     "data": {
      "application/vnd.jupyter.widget-view+json": {
       "model_id": "aa4962b738394bf0b6bec5080eb95142",
       "version_major": 2,
       "version_minor": 0
      },
      "text/plain": [
       "  0%|          | 0/1 [00:00<?, ?it/s]"
      ]
     },
     "metadata": {},
     "output_type": "display_data"
    },
    {
     "name": "stderr",
     "output_type": "stream",
     "text": [
      "Loading cached split indices for dataset at /home/scahyawijaya/.cache/huggingface/datasets/bigscience___x_p3all/tum/1.0.0/7240e93470cc8229a6e4c3d42b365eca012da5d8046ad4b0e5e23ca455bda5b1/cache-87a87c848eb3d9b0.arrow and /home/scahyawijaya/.cache/huggingface/datasets/bigscience___x_p3all/tum/1.0.0/7240e93470cc8229a6e4c3d42b365eca012da5d8046ad4b0e5e23ca455bda5b1/cache-3ece674bff62a31a.arrow\n",
      "Found cached dataset x_p3all (/home/scahyawijaya/.cache/huggingface/datasets/bigscience___x_p3all/tw/1.0.0/7240e93470cc8229a6e4c3d42b365eca012da5d8046ad4b0e5e23ca455bda5b1)\n"
     ]
    },
    {
     "data": {
      "application/vnd.jupyter.widget-view+json": {
       "model_id": "aeb62268a9624b55b3c82e1de57fcd28",
       "version_major": 2,
       "version_minor": 0
      },
      "text/plain": [
       "  0%|          | 0/1 [00:00<?, ?it/s]"
      ]
     },
     "metadata": {},
     "output_type": "display_data"
    },
    {
     "name": "stderr",
     "output_type": "stream",
     "text": [
      "Loading cached split indices for dataset at /home/scahyawijaya/.cache/huggingface/datasets/bigscience___x_p3all/tw/1.0.0/7240e93470cc8229a6e4c3d42b365eca012da5d8046ad4b0e5e23ca455bda5b1/cache-c8bed1ad2e6b32a1.arrow and /home/scahyawijaya/.cache/huggingface/datasets/bigscience___x_p3all/tw/1.0.0/7240e93470cc8229a6e4c3d42b365eca012da5d8046ad4b0e5e23ca455bda5b1/cache-803fc49e6cfa8b04.arrow\n",
      "Found cached dataset x_p3all (/home/scahyawijaya/.cache/huggingface/datasets/bigscience___x_p3all/ur/1.0.0/7240e93470cc8229a6e4c3d42b365eca012da5d8046ad4b0e5e23ca455bda5b1)\n"
     ]
    },
    {
     "data": {
      "application/vnd.jupyter.widget-view+json": {
       "model_id": "72d0740fbede4668889915ed76138d09",
       "version_major": 2,
       "version_minor": 0
      },
      "text/plain": [
       "  0%|          | 0/1 [00:00<?, ?it/s]"
      ]
     },
     "metadata": {},
     "output_type": "display_data"
    },
    {
     "name": "stderr",
     "output_type": "stream",
     "text": [
      "Loading cached split indices for dataset at /home/scahyawijaya/.cache/huggingface/datasets/bigscience___x_p3all/ur/1.0.0/7240e93470cc8229a6e4c3d42b365eca012da5d8046ad4b0e5e23ca455bda5b1/cache-f4a8ca77d0f04ea5.arrow and /home/scahyawijaya/.cache/huggingface/datasets/bigscience___x_p3all/ur/1.0.0/7240e93470cc8229a6e4c3d42b365eca012da5d8046ad4b0e5e23ca455bda5b1/cache-ec6f101ed9bb55ac.arrow\n",
      "Found cached dataset x_p3all (/home/scahyawijaya/.cache/huggingface/datasets/bigscience___x_p3all/vi/1.0.0/7240e93470cc8229a6e4c3d42b365eca012da5d8046ad4b0e5e23ca455bda5b1)\n"
     ]
    },
    {
     "data": {
      "application/vnd.jupyter.widget-view+json": {
       "model_id": "c3158bd5a6c0448c9247a83ef07ffdbd",
       "version_major": 2,
       "version_minor": 0
      },
      "text/plain": [
       "  0%|          | 0/1 [00:00<?, ?it/s]"
      ]
     },
     "metadata": {},
     "output_type": "display_data"
    },
    {
     "name": "stderr",
     "output_type": "stream",
     "text": [
      "Loading cached split indices for dataset at /home/scahyawijaya/.cache/huggingface/datasets/bigscience___x_p3all/vi/1.0.0/7240e93470cc8229a6e4c3d42b365eca012da5d8046ad4b0e5e23ca455bda5b1/cache-f52bf545e8a9d9b6.arrow and /home/scahyawijaya/.cache/huggingface/datasets/bigscience___x_p3all/vi/1.0.0/7240e93470cc8229a6e4c3d42b365eca012da5d8046ad4b0e5e23ca455bda5b1/cache-a995cdb517e3d342.arrow\n",
      "Found cached dataset x_p3all (/home/scahyawijaya/.cache/huggingface/datasets/bigscience___x_p3all/wo/1.0.0/7240e93470cc8229a6e4c3d42b365eca012da5d8046ad4b0e5e23ca455bda5b1)\n"
     ]
    },
    {
     "data": {
      "application/vnd.jupyter.widget-view+json": {
       "model_id": "d06ab69cfacb403ba0a69c5d83c2449a",
       "version_major": 2,
       "version_minor": 0
      },
      "text/plain": [
       "  0%|          | 0/1 [00:00<?, ?it/s]"
      ]
     },
     "metadata": {},
     "output_type": "display_data"
    },
    {
     "name": "stderr",
     "output_type": "stream",
     "text": [
      "Loading cached split indices for dataset at /home/scahyawijaya/.cache/huggingface/datasets/bigscience___x_p3all/wo/1.0.0/7240e93470cc8229a6e4c3d42b365eca012da5d8046ad4b0e5e23ca455bda5b1/cache-5ba18117492808b7.arrow and /home/scahyawijaya/.cache/huggingface/datasets/bigscience___x_p3all/wo/1.0.0/7240e93470cc8229a6e4c3d42b365eca012da5d8046ad4b0e5e23ca455bda5b1/cache-0eb51a52b5cbf813.arrow\n",
      "Found cached dataset x_p3all (/home/scahyawijaya/.cache/huggingface/datasets/bigscience___x_p3all/xh/1.0.0/7240e93470cc8229a6e4c3d42b365eca012da5d8046ad4b0e5e23ca455bda5b1)\n"
     ]
    },
    {
     "data": {
      "application/vnd.jupyter.widget-view+json": {
       "model_id": "1dbfc8c3c405468dbeee5c4bdb89fb4f",
       "version_major": 2,
       "version_minor": 0
      },
      "text/plain": [
       "  0%|          | 0/1 [00:00<?, ?it/s]"
      ]
     },
     "metadata": {},
     "output_type": "display_data"
    },
    {
     "name": "stderr",
     "output_type": "stream",
     "text": [
      "Loading cached split indices for dataset at /home/scahyawijaya/.cache/huggingface/datasets/bigscience___x_p3all/xh/1.0.0/7240e93470cc8229a6e4c3d42b365eca012da5d8046ad4b0e5e23ca455bda5b1/cache-85c6f356eeb8c79a.arrow and /home/scahyawijaya/.cache/huggingface/datasets/bigscience___x_p3all/xh/1.0.0/7240e93470cc8229a6e4c3d42b365eca012da5d8046ad4b0e5e23ca455bda5b1/cache-5a4b02996506ab2d.arrow\n",
      "Found cached dataset x_p3all (/home/scahyawijaya/.cache/huggingface/datasets/bigscience___x_p3all/yo/1.0.0/7240e93470cc8229a6e4c3d42b365eca012da5d8046ad4b0e5e23ca455bda5b1)\n"
     ]
    },
    {
     "data": {
      "application/vnd.jupyter.widget-view+json": {
       "model_id": "0ff56f62a19f40f7a0e48549047f30ec",
       "version_major": 2,
       "version_minor": 0
      },
      "text/plain": [
       "  0%|          | 0/1 [00:00<?, ?it/s]"
      ]
     },
     "metadata": {},
     "output_type": "display_data"
    },
    {
     "name": "stderr",
     "output_type": "stream",
     "text": [
      "Loading cached split indices for dataset at /home/scahyawijaya/.cache/huggingface/datasets/bigscience___x_p3all/yo/1.0.0/7240e93470cc8229a6e4c3d42b365eca012da5d8046ad4b0e5e23ca455bda5b1/cache-ff5e962da1cce262.arrow and /home/scahyawijaya/.cache/huggingface/datasets/bigscience___x_p3all/yo/1.0.0/7240e93470cc8229a6e4c3d42b365eca012da5d8046ad4b0e5e23ca455bda5b1/cache-066fee8ae99bf898.arrow\n",
      "Found cached dataset x_p3all (/home/scahyawijaya/.cache/huggingface/datasets/bigscience___x_p3all/zh/1.0.0/7240e93470cc8229a6e4c3d42b365eca012da5d8046ad4b0e5e23ca455bda5b1)\n"
     ]
    },
    {
     "data": {
      "application/vnd.jupyter.widget-view+json": {
       "model_id": "6a2929d33fa94150a8ea9b6c61e7731d",
       "version_major": 2,
       "version_minor": 0
      },
      "text/plain": [
       "  0%|          | 0/1 [00:00<?, ?it/s]"
      ]
     },
     "metadata": {},
     "output_type": "display_data"
    },
    {
     "name": "stderr",
     "output_type": "stream",
     "text": [
      "Loading cached split indices for dataset at /home/scahyawijaya/.cache/huggingface/datasets/bigscience___x_p3all/zh/1.0.0/7240e93470cc8229a6e4c3d42b365eca012da5d8046ad4b0e5e23ca455bda5b1/cache-e2fcc8336017f6f2.arrow and /home/scahyawijaya/.cache/huggingface/datasets/bigscience___x_p3all/zh/1.0.0/7240e93470cc8229a6e4c3d42b365eca012da5d8046ad4b0e5e23ca455bda5b1/cache-849f4c1c4e51814a.arrow\n",
      "Found cached dataset x_p3all (/home/scahyawijaya/.cache/huggingface/datasets/bigscience___x_p3all/zu/1.0.0/7240e93470cc8229a6e4c3d42b365eca012da5d8046ad4b0e5e23ca455bda5b1)\n"
     ]
    },
    {
     "data": {
      "application/vnd.jupyter.widget-view+json": {
       "model_id": "2214abcd8a2849f4bf210d1449ce48d4",
       "version_major": 2,
       "version_minor": 0
      },
      "text/plain": [
       "  0%|          | 0/1 [00:00<?, ?it/s]"
      ]
     },
     "metadata": {},
     "output_type": "display_data"
    },
    {
     "name": "stderr",
     "output_type": "stream",
     "text": [
      "Loading cached split indices for dataset at /home/scahyawijaya/.cache/huggingface/datasets/bigscience___x_p3all/zu/1.0.0/7240e93470cc8229a6e4c3d42b365eca012da5d8046ad4b0e5e23ca455bda5b1/cache-de27edf14d29f4ba.arrow and /home/scahyawijaya/.cache/huggingface/datasets/bigscience___x_p3all/zu/1.0.0/7240e93470cc8229a6e4c3d42b365eca012da5d8046ad4b0e5e23ca455bda5b1/cache-5036681abda21762.arrow\n"
     ]
    }
   ],
   "source": [
    "dsets = {}\n",
    "for subset in [\n",
    "    'ak', 'ar', 'as', 'bm', 'bn', 'ca', 'code', 'en', 'es', 'eu', 'fon',\n",
    "    'fr', 'gu', 'hi', 'id', 'ig', 'ki', 'kn', 'lg', 'ln', 'ml', 'mr', 'ne', \n",
    "    'nso', 'ny', 'or', 'pa', 'pt', 'rn', 'rw', 'sn', 'st', 'sw', 'ta', 'te', \n",
    "    'tn', 'ts', 'tum', 'tw', 'ur', 'vi', 'wo', 'xh', 'yo', 'zh', 'zu'\n",
    "]:\n",
    "    dset = datasets.load_dataset('bigscience/xP3all', subset)['train']\n",
    "    for size in [1800000, 1200000, 720000, 360000, 180000, 80000]:\n",
    "        if size > len(dset):\n",
    "            continue\n",
    "        dsets[f'{subset}_{size}'] = dset.train_test_split(test_size=size, shuffle=True, seed=14045)['test']"
   ]
  },
  {
   "cell_type": "code",
   "execution_count": 17,
   "id": "94371012-b1be-43a4-8909-e2acf307bd03",
   "metadata": {
    "scrolled": true,
    "tags": []
   },
   "outputs": [
    {
     "data": {
      "text/plain": [
       "{'ak_180000': Dataset({\n",
       "     features: ['inputs', 'targets'],\n",
       "     num_rows: 180000\n",
       " }),\n",
       " 'ak_80000': Dataset({\n",
       "     features: ['inputs', 'targets'],\n",
       "     num_rows: 80000\n",
       " }),\n",
       " 'ar_1800000': Dataset({\n",
       "     features: ['inputs', 'targets'],\n",
       "     num_rows: 1800000\n",
       " }),\n",
       " 'ar_1200000': Dataset({\n",
       "     features: ['inputs', 'targets'],\n",
       "     num_rows: 1200000\n",
       " }),\n",
       " 'ar_720000': Dataset({\n",
       "     features: ['inputs', 'targets'],\n",
       "     num_rows: 720000\n",
       " }),\n",
       " 'ar_360000': Dataset({\n",
       "     features: ['inputs', 'targets'],\n",
       "     num_rows: 360000\n",
       " }),\n",
       " 'ar_180000': Dataset({\n",
       "     features: ['inputs', 'targets'],\n",
       "     num_rows: 180000\n",
       " }),\n",
       " 'ar_80000': Dataset({\n",
       "     features: ['inputs', 'targets'],\n",
       "     num_rows: 80000\n",
       " }),\n",
       " 'as_180000': Dataset({\n",
       "     features: ['inputs', 'targets'],\n",
       "     num_rows: 180000\n",
       " }),\n",
       " 'as_80000': Dataset({\n",
       "     features: ['inputs', 'targets'],\n",
       "     num_rows: 80000\n",
       " }),\n",
       " 'bm_180000': Dataset({\n",
       "     features: ['inputs', 'targets'],\n",
       "     num_rows: 180000\n",
       " }),\n",
       " 'bm_80000': Dataset({\n",
       "     features: ['inputs', 'targets'],\n",
       "     num_rows: 80000\n",
       " }),\n",
       " 'bn_360000': Dataset({\n",
       "     features: ['inputs', 'targets'],\n",
       "     num_rows: 360000\n",
       " }),\n",
       " 'bn_180000': Dataset({\n",
       "     features: ['inputs', 'targets'],\n",
       "     num_rows: 180000\n",
       " }),\n",
       " 'bn_80000': Dataset({\n",
       "     features: ['inputs', 'targets'],\n",
       "     num_rows: 80000\n",
       " }),\n",
       " 'ca_180000': Dataset({\n",
       "     features: ['inputs', 'targets'],\n",
       "     num_rows: 180000\n",
       " }),\n",
       " 'ca_80000': Dataset({\n",
       "     features: ['inputs', 'targets'],\n",
       "     num_rows: 80000\n",
       " }),\n",
       " 'code_1800000': Dataset({\n",
       "     features: ['inputs', 'targets'],\n",
       "     num_rows: 1800000\n",
       " }),\n",
       " 'code_1200000': Dataset({\n",
       "     features: ['inputs', 'targets'],\n",
       "     num_rows: 1200000\n",
       " }),\n",
       " 'code_720000': Dataset({\n",
       "     features: ['inputs', 'targets'],\n",
       "     num_rows: 720000\n",
       " }),\n",
       " 'code_360000': Dataset({\n",
       "     features: ['inputs', 'targets'],\n",
       "     num_rows: 360000\n",
       " }),\n",
       " 'code_180000': Dataset({\n",
       "     features: ['inputs', 'targets'],\n",
       "     num_rows: 180000\n",
       " }),\n",
       " 'code_80000': Dataset({\n",
       "     features: ['inputs', 'targets'],\n",
       "     num_rows: 80000\n",
       " }),\n",
       " 'en_1800000': Dataset({\n",
       "     features: ['inputs', 'targets'],\n",
       "     num_rows: 1800000\n",
       " }),\n",
       " 'en_1200000': Dataset({\n",
       "     features: ['inputs', 'targets'],\n",
       "     num_rows: 1200000\n",
       " }),\n",
       " 'en_720000': Dataset({\n",
       "     features: ['inputs', 'targets'],\n",
       "     num_rows: 720000\n",
       " }),\n",
       " 'en_360000': Dataset({\n",
       "     features: ['inputs', 'targets'],\n",
       "     num_rows: 360000\n",
       " }),\n",
       " 'en_180000': Dataset({\n",
       "     features: ['inputs', 'targets'],\n",
       "     num_rows: 180000\n",
       " }),\n",
       " 'en_80000': Dataset({\n",
       "     features: ['inputs', 'targets'],\n",
       "     num_rows: 80000\n",
       " }),\n",
       " 'es_1800000': Dataset({\n",
       "     features: ['inputs', 'targets'],\n",
       "     num_rows: 1800000\n",
       " }),\n",
       " 'es_1200000': Dataset({\n",
       "     features: ['inputs', 'targets'],\n",
       "     num_rows: 1200000\n",
       " }),\n",
       " 'es_720000': Dataset({\n",
       "     features: ['inputs', 'targets'],\n",
       "     num_rows: 720000\n",
       " }),\n",
       " 'es_360000': Dataset({\n",
       "     features: ['inputs', 'targets'],\n",
       "     num_rows: 360000\n",
       " }),\n",
       " 'es_180000': Dataset({\n",
       "     features: ['inputs', 'targets'],\n",
       "     num_rows: 180000\n",
       " }),\n",
       " 'es_80000': Dataset({\n",
       "     features: ['inputs', 'targets'],\n",
       "     num_rows: 80000\n",
       " }),\n",
       " 'eu_180000': Dataset({\n",
       "     features: ['inputs', 'targets'],\n",
       "     num_rows: 180000\n",
       " }),\n",
       " 'eu_80000': Dataset({\n",
       "     features: ['inputs', 'targets'],\n",
       "     num_rows: 80000\n",
       " }),\n",
       " 'fon_180000': Dataset({\n",
       "     features: ['inputs', 'targets'],\n",
       "     num_rows: 180000\n",
       " }),\n",
       " 'fon_80000': Dataset({\n",
       "     features: ['inputs', 'targets'],\n",
       "     num_rows: 80000\n",
       " }),\n",
       " 'fr_1800000': Dataset({\n",
       "     features: ['inputs', 'targets'],\n",
       "     num_rows: 1800000\n",
       " }),\n",
       " 'fr_1200000': Dataset({\n",
       "     features: ['inputs', 'targets'],\n",
       "     num_rows: 1200000\n",
       " }),\n",
       " 'fr_720000': Dataset({\n",
       "     features: ['inputs', 'targets'],\n",
       "     num_rows: 720000\n",
       " }),\n",
       " 'fr_360000': Dataset({\n",
       "     features: ['inputs', 'targets'],\n",
       "     num_rows: 360000\n",
       " }),\n",
       " 'fr_180000': Dataset({\n",
       "     features: ['inputs', 'targets'],\n",
       "     num_rows: 180000\n",
       " }),\n",
       " 'fr_80000': Dataset({\n",
       "     features: ['inputs', 'targets'],\n",
       "     num_rows: 80000\n",
       " }),\n",
       " 'gu_180000': Dataset({\n",
       "     features: ['inputs', 'targets'],\n",
       "     num_rows: 180000\n",
       " }),\n",
       " 'gu_80000': Dataset({\n",
       "     features: ['inputs', 'targets'],\n",
       "     num_rows: 80000\n",
       " }),\n",
       " 'hi_1200000': Dataset({\n",
       "     features: ['inputs', 'targets'],\n",
       "     num_rows: 1200000\n",
       " }),\n",
       " 'hi_720000': Dataset({\n",
       "     features: ['inputs', 'targets'],\n",
       "     num_rows: 720000\n",
       " }),\n",
       " 'hi_360000': Dataset({\n",
       "     features: ['inputs', 'targets'],\n",
       "     num_rows: 360000\n",
       " }),\n",
       " 'hi_180000': Dataset({\n",
       "     features: ['inputs', 'targets'],\n",
       "     num_rows: 180000\n",
       " }),\n",
       " 'hi_80000': Dataset({\n",
       "     features: ['inputs', 'targets'],\n",
       "     num_rows: 80000\n",
       " }),\n",
       " 'id_1800000': Dataset({\n",
       "     features: ['inputs', 'targets'],\n",
       "     num_rows: 1800000\n",
       " }),\n",
       " 'id_1200000': Dataset({\n",
       "     features: ['inputs', 'targets'],\n",
       "     num_rows: 1200000\n",
       " }),\n",
       " 'id_720000': Dataset({\n",
       "     features: ['inputs', 'targets'],\n",
       "     num_rows: 720000\n",
       " }),\n",
       " 'id_360000': Dataset({\n",
       "     features: ['inputs', 'targets'],\n",
       "     num_rows: 360000\n",
       " }),\n",
       " 'id_180000': Dataset({\n",
       "     features: ['inputs', 'targets'],\n",
       "     num_rows: 180000\n",
       " }),\n",
       " 'id_80000': Dataset({\n",
       "     features: ['inputs', 'targets'],\n",
       "     num_rows: 80000\n",
       " }),\n",
       " 'ig_720000': Dataset({\n",
       "     features: ['inputs', 'targets'],\n",
       "     num_rows: 720000\n",
       " }),\n",
       " 'ig_360000': Dataset({\n",
       "     features: ['inputs', 'targets'],\n",
       "     num_rows: 360000\n",
       " }),\n",
       " 'ig_180000': Dataset({\n",
       "     features: ['inputs', 'targets'],\n",
       "     num_rows: 180000\n",
       " }),\n",
       " 'ig_80000': Dataset({\n",
       "     features: ['inputs', 'targets'],\n",
       "     num_rows: 80000\n",
       " }),\n",
       " 'ki_180000': Dataset({\n",
       "     features: ['inputs', 'targets'],\n",
       "     num_rows: 180000\n",
       " }),\n",
       " 'ki_80000': Dataset({\n",
       "     features: ['inputs', 'targets'],\n",
       "     num_rows: 80000\n",
       " }),\n",
       " 'kn_180000': Dataset({\n",
       "     features: ['inputs', 'targets'],\n",
       "     num_rows: 180000\n",
       " }),\n",
       " 'kn_80000': Dataset({\n",
       "     features: ['inputs', 'targets'],\n",
       "     num_rows: 80000\n",
       " }),\n",
       " 'lg_720000': Dataset({\n",
       "     features: ['inputs', 'targets'],\n",
       "     num_rows: 720000\n",
       " }),\n",
       " 'lg_360000': Dataset({\n",
       "     features: ['inputs', 'targets'],\n",
       "     num_rows: 360000\n",
       " }),\n",
       " 'lg_180000': Dataset({\n",
       "     features: ['inputs', 'targets'],\n",
       "     num_rows: 180000\n",
       " }),\n",
       " 'lg_80000': Dataset({\n",
       "     features: ['inputs', 'targets'],\n",
       "     num_rows: 80000\n",
       " }),\n",
       " 'ln_360000': Dataset({\n",
       "     features: ['inputs', 'targets'],\n",
       "     num_rows: 360000\n",
       " }),\n",
       " 'ln_180000': Dataset({\n",
       "     features: ['inputs', 'targets'],\n",
       "     num_rows: 180000\n",
       " }),\n",
       " 'ln_80000': Dataset({\n",
       "     features: ['inputs', 'targets'],\n",
       "     num_rows: 80000\n",
       " }),\n",
       " 'ml_180000': Dataset({\n",
       "     features: ['inputs', 'targets'],\n",
       "     num_rows: 180000\n",
       " }),\n",
       " 'ml_80000': Dataset({\n",
       "     features: ['inputs', 'targets'],\n",
       "     num_rows: 80000\n",
       " }),\n",
       " 'mr_360000': Dataset({\n",
       "     features: ['inputs', 'targets'],\n",
       "     num_rows: 360000\n",
       " }),\n",
       " 'mr_180000': Dataset({\n",
       "     features: ['inputs', 'targets'],\n",
       "     num_rows: 180000\n",
       " }),\n",
       " 'mr_80000': Dataset({\n",
       "     features: ['inputs', 'targets'],\n",
       "     num_rows: 80000\n",
       " }),\n",
       " 'ne_180000': Dataset({\n",
       "     features: ['inputs', 'targets'],\n",
       "     num_rows: 180000\n",
       " }),\n",
       " 'ne_80000': Dataset({\n",
       "     features: ['inputs', 'targets'],\n",
       "     num_rows: 80000\n",
       " }),\n",
       " 'nso_720000': Dataset({\n",
       "     features: ['inputs', 'targets'],\n",
       "     num_rows: 720000\n",
       " }),\n",
       " 'nso_360000': Dataset({\n",
       "     features: ['inputs', 'targets'],\n",
       "     num_rows: 360000\n",
       " }),\n",
       " 'nso_180000': Dataset({\n",
       "     features: ['inputs', 'targets'],\n",
       "     num_rows: 180000\n",
       " }),\n",
       " 'nso_80000': Dataset({\n",
       "     features: ['inputs', 'targets'],\n",
       "     num_rows: 80000\n",
       " }),\n",
       " 'ny_720000': Dataset({\n",
       "     features: ['inputs', 'targets'],\n",
       "     num_rows: 720000\n",
       " }),\n",
       " 'ny_360000': Dataset({\n",
       "     features: ['inputs', 'targets'],\n",
       "     num_rows: 360000\n",
       " }),\n",
       " 'ny_180000': Dataset({\n",
       "     features: ['inputs', 'targets'],\n",
       "     num_rows: 180000\n",
       " }),\n",
       " 'ny_80000': Dataset({\n",
       "     features: ['inputs', 'targets'],\n",
       "     num_rows: 80000\n",
       " }),\n",
       " 'or_180000': Dataset({\n",
       "     features: ['inputs', 'targets'],\n",
       "     num_rows: 180000\n",
       " }),\n",
       " 'or_80000': Dataset({\n",
       "     features: ['inputs', 'targets'],\n",
       "     num_rows: 80000\n",
       " }),\n",
       " 'pa_180000': Dataset({\n",
       "     features: ['inputs', 'targets'],\n",
       "     num_rows: 180000\n",
       " }),\n",
       " 'pa_80000': Dataset({\n",
       "     features: ['inputs', 'targets'],\n",
       "     num_rows: 80000\n",
       " }),\n",
       " 'pt_1800000': Dataset({\n",
       "     features: ['inputs', 'targets'],\n",
       "     num_rows: 1800000\n",
       " }),\n",
       " 'pt_1200000': Dataset({\n",
       "     features: ['inputs', 'targets'],\n",
       "     num_rows: 1200000\n",
       " }),\n",
       " 'pt_720000': Dataset({\n",
       "     features: ['inputs', 'targets'],\n",
       "     num_rows: 720000\n",
       " }),\n",
       " 'pt_360000': Dataset({\n",
       "     features: ['inputs', 'targets'],\n",
       "     num_rows: 360000\n",
       " }),\n",
       " 'pt_180000': Dataset({\n",
       "     features: ['inputs', 'targets'],\n",
       "     num_rows: 180000\n",
       " }),\n",
       " 'pt_80000': Dataset({\n",
       "     features: ['inputs', 'targets'],\n",
       "     num_rows: 80000\n",
       " }),\n",
       " 'rn_180000': Dataset({\n",
       "     features: ['inputs', 'targets'],\n",
       "     num_rows: 180000\n",
       " }),\n",
       " 'rn_80000': Dataset({\n",
       "     features: ['inputs', 'targets'],\n",
       "     num_rows: 80000\n",
       " }),\n",
       " 'rw_720000': Dataset({\n",
       "     features: ['inputs', 'targets'],\n",
       "     num_rows: 720000\n",
       " }),\n",
       " 'rw_360000': Dataset({\n",
       "     features: ['inputs', 'targets'],\n",
       "     num_rows: 360000\n",
       " }),\n",
       " 'rw_180000': Dataset({\n",
       "     features: ['inputs', 'targets'],\n",
       "     num_rows: 180000\n",
       " }),\n",
       " 'rw_80000': Dataset({\n",
       "     features: ['inputs', 'targets'],\n",
       "     num_rows: 80000\n",
       " }),\n",
       " 'sn_720000': Dataset({\n",
       "     features: ['inputs', 'targets'],\n",
       "     num_rows: 720000\n",
       " }),\n",
       " 'sn_360000': Dataset({\n",
       "     features: ['inputs', 'targets'],\n",
       "     num_rows: 360000\n",
       " }),\n",
       " 'sn_180000': Dataset({\n",
       "     features: ['inputs', 'targets'],\n",
       "     num_rows: 180000\n",
       " }),\n",
       " 'sn_80000': Dataset({\n",
       "     features: ['inputs', 'targets'],\n",
       "     num_rows: 80000\n",
       " }),\n",
       " 'st_180000': Dataset({\n",
       "     features: ['inputs', 'targets'],\n",
       "     num_rows: 180000\n",
       " }),\n",
       " 'st_80000': Dataset({\n",
       "     features: ['inputs', 'targets'],\n",
       "     num_rows: 80000\n",
       " }),\n",
       " 'sw_720000': Dataset({\n",
       "     features: ['inputs', 'targets'],\n",
       "     num_rows: 720000\n",
       " }),\n",
       " 'sw_360000': Dataset({\n",
       "     features: ['inputs', 'targets'],\n",
       "     num_rows: 360000\n",
       " }),\n",
       " 'sw_180000': Dataset({\n",
       "     features: ['inputs', 'targets'],\n",
       "     num_rows: 180000\n",
       " }),\n",
       " 'sw_80000': Dataset({\n",
       "     features: ['inputs', 'targets'],\n",
       "     num_rows: 80000\n",
       " }),\n",
       " 'ta_360000': Dataset({\n",
       "     features: ['inputs', 'targets'],\n",
       "     num_rows: 360000\n",
       " }),\n",
       " 'ta_180000': Dataset({\n",
       "     features: ['inputs', 'targets'],\n",
       "     num_rows: 180000\n",
       " }),\n",
       " 'ta_80000': Dataset({\n",
       "     features: ['inputs', 'targets'],\n",
       "     num_rows: 80000\n",
       " }),\n",
       " 'te_360000': Dataset({\n",
       "     features: ['inputs', 'targets'],\n",
       "     num_rows: 360000\n",
       " }),\n",
       " 'te_180000': Dataset({\n",
       "     features: ['inputs', 'targets'],\n",
       "     num_rows: 180000\n",
       " }),\n",
       " 'te_80000': Dataset({\n",
       "     features: ['inputs', 'targets'],\n",
       "     num_rows: 80000\n",
       " }),\n",
       " 'tn_720000': Dataset({\n",
       "     features: ['inputs', 'targets'],\n",
       "     num_rows: 720000\n",
       " }),\n",
       " 'tn_360000': Dataset({\n",
       "     features: ['inputs', 'targets'],\n",
       "     num_rows: 360000\n",
       " }),\n",
       " 'tn_180000': Dataset({\n",
       "     features: ['inputs', 'targets'],\n",
       "     num_rows: 180000\n",
       " }),\n",
       " 'tn_80000': Dataset({\n",
       "     features: ['inputs', 'targets'],\n",
       "     num_rows: 80000\n",
       " }),\n",
       " 'ts_720000': Dataset({\n",
       "     features: ['inputs', 'targets'],\n",
       "     num_rows: 720000\n",
       " }),\n",
       " 'ts_360000': Dataset({\n",
       "     features: ['inputs', 'targets'],\n",
       "     num_rows: 360000\n",
       " }),\n",
       " 'ts_180000': Dataset({\n",
       "     features: ['inputs', 'targets'],\n",
       "     num_rows: 180000\n",
       " }),\n",
       " 'ts_80000': Dataset({\n",
       "     features: ['inputs', 'targets'],\n",
       "     num_rows: 80000\n",
       " }),\n",
       " 'tum_180000': Dataset({\n",
       "     features: ['inputs', 'targets'],\n",
       "     num_rows: 180000\n",
       " }),\n",
       " 'tum_80000': Dataset({\n",
       "     features: ['inputs', 'targets'],\n",
       "     num_rows: 80000\n",
       " }),\n",
       " 'tw_180000': Dataset({\n",
       "     features: ['inputs', 'targets'],\n",
       "     num_rows: 180000\n",
       " }),\n",
       " 'tw_80000': Dataset({\n",
       "     features: ['inputs', 'targets'],\n",
       "     num_rows: 80000\n",
       " }),\n",
       " 'ur_720000': Dataset({\n",
       "     features: ['inputs', 'targets'],\n",
       "     num_rows: 720000\n",
       " }),\n",
       " 'ur_360000': Dataset({\n",
       "     features: ['inputs', 'targets'],\n",
       "     num_rows: 360000\n",
       " }),\n",
       " 'ur_180000': Dataset({\n",
       "     features: ['inputs', 'targets'],\n",
       "     num_rows: 180000\n",
       " }),\n",
       " 'ur_80000': Dataset({\n",
       "     features: ['inputs', 'targets'],\n",
       "     num_rows: 80000\n",
       " }),\n",
       " 'vi_1200000': Dataset({\n",
       "     features: ['inputs', 'targets'],\n",
       "     num_rows: 1200000\n",
       " }),\n",
       " 'vi_720000': Dataset({\n",
       "     features: ['inputs', 'targets'],\n",
       "     num_rows: 720000\n",
       " }),\n",
       " 'vi_360000': Dataset({\n",
       "     features: ['inputs', 'targets'],\n",
       "     num_rows: 360000\n",
       " }),\n",
       " 'vi_180000': Dataset({\n",
       "     features: ['inputs', 'targets'],\n",
       "     num_rows: 180000\n",
       " }),\n",
       " 'vi_80000': Dataset({\n",
       "     features: ['inputs', 'targets'],\n",
       "     num_rows: 80000\n",
       " }),\n",
       " 'wo_360000': Dataset({\n",
       "     features: ['inputs', 'targets'],\n",
       "     num_rows: 360000\n",
       " }),\n",
       " 'wo_180000': Dataset({\n",
       "     features: ['inputs', 'targets'],\n",
       "     num_rows: 180000\n",
       " }),\n",
       " 'wo_80000': Dataset({\n",
       "     features: ['inputs', 'targets'],\n",
       "     num_rows: 80000\n",
       " }),\n",
       " 'xh_720000': Dataset({\n",
       "     features: ['inputs', 'targets'],\n",
       "     num_rows: 720000\n",
       " }),\n",
       " 'xh_360000': Dataset({\n",
       "     features: ['inputs', 'targets'],\n",
       "     num_rows: 360000\n",
       " }),\n",
       " 'xh_180000': Dataset({\n",
       "     features: ['inputs', 'targets'],\n",
       "     num_rows: 180000\n",
       " }),\n",
       " 'xh_80000': Dataset({\n",
       "     features: ['inputs', 'targets'],\n",
       "     num_rows: 80000\n",
       " }),\n",
       " 'yo_720000': Dataset({\n",
       "     features: ['inputs', 'targets'],\n",
       "     num_rows: 720000\n",
       " }),\n",
       " 'yo_360000': Dataset({\n",
       "     features: ['inputs', 'targets'],\n",
       "     num_rows: 360000\n",
       " }),\n",
       " 'yo_180000': Dataset({\n",
       "     features: ['inputs', 'targets'],\n",
       "     num_rows: 180000\n",
       " }),\n",
       " 'yo_80000': Dataset({\n",
       "     features: ['inputs', 'targets'],\n",
       "     num_rows: 80000\n",
       " }),\n",
       " 'zh_1800000': Dataset({\n",
       "     features: ['inputs', 'targets'],\n",
       "     num_rows: 1800000\n",
       " }),\n",
       " 'zh_1200000': Dataset({\n",
       "     features: ['inputs', 'targets'],\n",
       "     num_rows: 1200000\n",
       " }),\n",
       " 'zh_720000': Dataset({\n",
       "     features: ['inputs', 'targets'],\n",
       "     num_rows: 720000\n",
       " }),\n",
       " 'zh_360000': Dataset({\n",
       "     features: ['inputs', 'targets'],\n",
       "     num_rows: 360000\n",
       " }),\n",
       " 'zh_180000': Dataset({\n",
       "     features: ['inputs', 'targets'],\n",
       "     num_rows: 180000\n",
       " }),\n",
       " 'zh_80000': Dataset({\n",
       "     features: ['inputs', 'targets'],\n",
       "     num_rows: 80000\n",
       " }),\n",
       " 'zu_720000': Dataset({\n",
       "     features: ['inputs', 'targets'],\n",
       "     num_rows: 720000\n",
       " }),\n",
       " 'zu_360000': Dataset({\n",
       "     features: ['inputs', 'targets'],\n",
       "     num_rows: 360000\n",
       " }),\n",
       " 'zu_180000': Dataset({\n",
       "     features: ['inputs', 'targets'],\n",
       "     num_rows: 180000\n",
       " }),\n",
       " 'zu_80000': Dataset({\n",
       "     features: ['inputs', 'targets'],\n",
       "     num_rows: 80000\n",
       " })}"
      ]
     },
     "execution_count": 17,
     "metadata": {},
     "output_type": "execute_result"
    }
   ],
   "source": [
    "dsets"
   ]
  },
  {
   "cell_type": "code",
   "execution_count": 34,
   "id": "39fbc69e-f7a3-47eb-82b4-3217700a7c66",
   "metadata": {
    "tags": []
   },
   "outputs": [
    {
     "name": "stdout",
     "output_type": "stream",
     "text": [
      "Downloading and preparing dataset csv/indonlp--nusa_t2t to /home/scahyawijaya/.cache/huggingface/datasets/indonlp___csv/indonlp--nusa_t2t-9f34c86968dcf413/0.0.0/6954658bab30a358235fa864b05cf819af0e179325c740e4bc853bcc7ec513e1...\n"
     ]
    },
    {
     "data": {
      "application/vnd.jupyter.widget-view+json": {
       "model_id": "8e49a546270c4d709fb547bda7b35e81",
       "version_major": 2,
       "version_minor": 0
      },
      "text/plain": [
       "Downloading data files:   0%|          | 0/1 [00:00<?, ?it/s]"
      ]
     },
     "metadata": {},
     "output_type": "display_data"
    },
    {
     "data": {
      "application/vnd.jupyter.widget-view+json": {
       "model_id": "14661d2e66444ec8826b32035f118960",
       "version_major": 2,
       "version_minor": 0
      },
      "text/plain": [
       "Downloading data:   0%|          | 0.00/13.9G [00:00<?, ?B/s]"
      ]
     },
     "metadata": {},
     "output_type": "display_data"
    },
    {
     "data": {
      "application/vnd.jupyter.widget-view+json": {
       "model_id": "59681da371bf4a278da7720a7fbe7e98",
       "version_major": 2,
       "version_minor": 0
      },
      "text/plain": [
       "Downloading data:   0%|          | 0.00/9.29G [00:00<?, ?B/s]"
      ]
     },
     "metadata": {},
     "output_type": "display_data"
    },
    {
     "data": {
      "application/vnd.jupyter.widget-view+json": {
       "model_id": "4687980629ba479584bac8973cc1a912",
       "version_major": 2,
       "version_minor": 0
      },
      "text/plain": [
       "Extracting data files:   0%|          | 0/1 [00:00<?, ?it/s]"
      ]
     },
     "metadata": {},
     "output_type": "display_data"
    },
    {
     "data": {
      "application/vnd.jupyter.widget-view+json": {
       "model_id": "",
       "version_major": 2,
       "version_minor": 0
      },
      "text/plain": [
       "Generating train split: 0 examples [00:00, ? examples/s]"
      ]
     },
     "metadata": {},
     "output_type": "display_data"
    },
    {
     "name": "stdout",
     "output_type": "stream",
     "text": [
      "Dataset csv downloaded and prepared to /home/scahyawijaya/.cache/huggingface/datasets/indonlp___csv/indonlp--nusa_t2t-9f34c86968dcf413/0.0.0/6954658bab30a358235fa864b05cf819af0e179325c740e4bc853bcc7ec513e1. Subsequent calls will reuse this data.\n"
     ]
    },
    {
     "data": {
      "application/vnd.jupyter.widget-view+json": {
       "model_id": "c07bac58ea81413c839945be106895f5",
       "version_major": 2,
       "version_minor": 0
      },
      "text/plain": [
       "  0%|          | 0/1 [00:00<?, ?it/s]"
      ]
     },
     "metadata": {},
     "output_type": "display_data"
    }
   ],
   "source": [
    "dset = datasets.load_dataset('indonlp/nusa_t2t', 'train_t2t_data_v2.csv')"
   ]
  },
  {
   "cell_type": "code",
   "execution_count": 86,
   "id": "110fd238-3868-42b1-978a-aa36d8b3066c",
   "metadata": {
    "tags": []
   },
   "outputs": [
    {
     "data": {
      "application/vnd.jupyter.widget-view+json": {
       "model_id": "",
       "version_major": 2,
       "version_minor": 0
      },
      "text/plain": [
       "Filter:   0%|          | 0/41171900 [00:00<?, ? examples/s]"
      ]
     },
     "metadata": {},
     "output_type": "display_data"
    }
   ],
   "source": [
    "dset_v2 = dset['train'].filter(lambda ex: ex[\"dataset_name\"] == 'nusa_t2t_v2')"
   ]
  },
  {
   "cell_type": "code",
   "execution_count": 88,
   "id": "9a86fd8c-624c-4021-ba96-832f7d303175",
   "metadata": {
    "tags": []
   },
   "outputs": [],
   "source": [
    "df = dset_v2.to_pandas()"
   ]
  },
  {
   "cell_type": "code",
   "execution_count": 90,
   "id": "99c678e4-e806-40f3-adc2-17719ae2b2f7",
   "metadata": {
    "tags": []
   },
   "outputs": [
    {
     "data": {
      "text/plain": [
       "subset_name\n",
       "indo_puisi            144460\n",
       "wikihow                97848\n",
       "wikipedia_ace          22270\n",
       "wikipedia_ban          92778\n",
       "wikipedia_bjn          55585\n",
       "wikipedia_bug            633\n",
       "wikipedia_gor          62076\n",
       "wikipedia_id         6069267\n",
       "wikipedia_jv          375368\n",
       "wikipedia_map-bms      64048\n",
       "wikipedia_min        1431747\n",
       "wikipedia_ms         2094812\n",
       "wikipedia_nia           8865\n",
       "wikipedia_su          465517\n",
       "wikipedia_tet           7262\n",
       "dtype: int64"
      ]
     },
     "execution_count": 90,
     "metadata": {},
     "output_type": "execute_result"
    }
   ],
   "source": [
    "df.groupby('subset_name').size()"
   ]
  },
  {
   "cell_type": "code",
   "execution_count": 100,
   "id": "b55f85b8-be33-4e95-ae60-544c02770c64",
   "metadata": {
    "tags": []
   },
   "outputs": [],
   "source": [
    "idf = pd.read_csv('v2_data/identity_prompt.csv')\n",
    "idf = idf.rename({'Prompt': 'input', 'Answer': 'output'}, axis='columns')\n",
    "idf['dataset_name'] = 'nusa_t2t_v2'\n",
    "idf['subset_name'] = 'identity_prompt'\n",
    "idf['prompt_id'] = 'identity_prompt'\n",
    "idf['template_name'] = 'identity_prompt'\n",
    "idf['dataset_key'] = 'identity_prompt'"
   ]
  },
  {
   "cell_type": "code",
   "execution_count": 105,
   "id": "5f7b69c9-1adf-4d63-bf93-454f93f7190a",
   "metadata": {
    "tags": []
   },
   "outputs": [],
   "source": [
    "ddf = pd.read_csv('v2_data/databricks-dolly-15k_mt_nllb-200-3.3B.csv')\n",
    "ddf['subset_name'] = 'dolly'"
   ]
  },
  {
   "cell_type": "code",
   "execution_count": 108,
   "id": "e49c4416-c021-4859-9505-e4433f341e0e",
   "metadata": {
    "tags": []
   },
   "outputs": [],
   "source": [
    "v2_df = pd.concat([df,idf, ddf])"
   ]
  },
  {
   "cell_type": "code",
   "execution_count": 109,
   "id": "4544e9f9-6598-46fc-9d97-56891425f11f",
   "metadata": {
    "tags": []
   },
   "outputs": [
    {
     "data": {
      "text/plain": [
       "subset_name\n",
       "dolly                  15011\n",
       "identity_prompt          125\n",
       "indo_puisi            144460\n",
       "wikihow                97848\n",
       "wikipedia_ace          22270\n",
       "wikipedia_ban          92778\n",
       "wikipedia_bjn          55585\n",
       "wikipedia_bug            633\n",
       "wikipedia_gor          62076\n",
       "wikipedia_id         6069267\n",
       "wikipedia_jv          375368\n",
       "wikipedia_map-bms      64048\n",
       "wikipedia_min        1431747\n",
       "wikipedia_ms         2094812\n",
       "wikipedia_nia           8865\n",
       "wikipedia_su          465517\n",
       "wikipedia_tet           7262\n",
       "dtype: int64"
      ]
     },
     "execution_count": 109,
     "metadata": {},
     "output_type": "execute_result"
    }
   ],
   "source": [
    "v2_df.groupby('subset_name').size()"
   ]
  },
  {
   "cell_type": "code",
   "execution_count": 111,
   "id": "81833082-6506-4a87-a4d2-023b174c356b",
   "metadata": {
    "tags": []
   },
   "outputs": [
    {
     "data": {
      "text/plain": [
       "11007672"
      ]
     },
     "execution_count": 111,
     "metadata": {},
     "output_type": "execute_result"
    }
   ],
   "source": [
    "len(v2_df)"
   ]
  },
  {
   "cell_type": "code",
   "execution_count": 278,
   "id": "89edcd39-16aa-4acf-bab0-f70683cf321c",
   "metadata": {
    "tags": []
   },
   "outputs": [
    {
     "data": {
      "text/plain": [
       "subset_name\n",
       "wikipedia_id         0.551367\n",
       "wikipedia_ms         0.190305\n",
       "wikipedia_min        0.130068\n",
       "wikipedia_su         0.042290\n",
       "wikipedia_jv         0.034101\n",
       "indo_puisi           0.013124\n",
       "wikihow              0.008889\n",
       "wikipedia_ban        0.008428\n",
       "wikipedia_map-bms    0.005818\n",
       "wikipedia_gor        0.005639\n",
       "wikipedia_bjn        0.005050\n",
       "wikipedia_ace        0.002023\n",
       "dolly                0.001364\n",
       "wikipedia_nia        0.000805\n",
       "wikipedia_tet        0.000660\n",
       "wikipedia_bug        0.000058\n",
       "identity_prompt      0.000011\n",
       "dtype: float64"
      ]
     },
     "execution_count": 278,
     "metadata": {},
     "output_type": "execute_result"
    }
   ],
   "source": [
    "v2_df.groupby('subset_name').size().sort_values(ascending=False) / len(v2_df)"
   ]
  },
  {
   "cell_type": "code",
   "execution_count": 279,
   "id": "24d9bedd-ebab-44aa-a35d-cb90758e39d0",
   "metadata": {
    "tags": []
   },
   "outputs": [],
   "source": [
    "v2_dist_df = v2_df.groupby('subset_name').size().sort_values(ascending=False) / len(v2_df)"
   ]
  },
  {
   "cell_type": "code",
   "execution_count": 280,
   "id": "dc2df3c7-c405-4eee-96d5-f63bfa3d658f",
   "metadata": {
    "tags": []
   },
   "outputs": [],
   "source": [
    "sr_df = (v2_dist ** 0.5) / (v2_dist ** 0.5).sum()"
   ]
  },
  {
   "cell_type": "code",
   "execution_count": 281,
   "id": "f1738f88-7ee7-4f58-a19a-bfb92dd81da7",
   "metadata": {
    "tags": []
   },
   "outputs": [],
   "source": [
    "adj_sr_df= sr_df / v2_dist_df"
   ]
  },
  {
   "cell_type": "code",
   "execution_count": 282,
   "id": "78200466-3e3d-4551-b7ef-2de9679fe3ac",
   "metadata": {
    "tags": []
   },
   "outputs": [],
   "source": [
    "multiplier_df = np.ceil(adj_sr_df)"
   ]
  },
  {
   "cell_type": "code",
   "execution_count": 283,
   "id": "9b47a180-c22f-490e-86cf-326da53ae73b",
   "metadata": {
    "tags": []
   },
   "outputs": [],
   "source": [
    "dfs = []\n",
    "for name, multiplier in multiplier_df.items():\n",
    "    if multiplier < 1:\n",
    "        multiplier = 1\n",
    "    if name == 'identity_prompt':\n",
    "        multiplier = 1000\n",
    "    xdf = v2_df.loc[v2_df['subset_name'] == name]\n",
    "    dfs += [xdf for _ in range(int(multiplier))]\n",
    "adj_v2_df = pd.concat(dfs)"
   ]
  },
  {
   "cell_type": "code",
   "execution_count": 284,
   "id": "ffdee666-65c1-4b76-84a4-8709fbc7530f",
   "metadata": {
    "tags": []
   },
   "outputs": [
    {
     "data": {
      "text/plain": [
       "subset_name\n",
       "dolly                 165121\n",
       "identity_prompt       125000\n",
       "indo_puisi            577840\n",
       "wikihow               489240\n",
       "wikipedia_ace         200430\n",
       "wikipedia_ban         463890\n",
       "wikipedia_bjn         333510\n",
       "wikipedia_bug          32283\n",
       "wikipedia_gor         372456\n",
       "wikipedia_id         6069267\n",
       "wikipedia_jv         1126104\n",
       "wikipedia_map-bms     384288\n",
       "wikipedia_min        2863494\n",
       "wikipedia_ms         2094812\n",
       "wikipedia_nia         124110\n",
       "wikipedia_su          931034\n",
       "wikipedia_tet         108930\n",
       "dtype: int64"
      ]
     },
     "execution_count": 284,
     "metadata": {},
     "output_type": "execute_result"
    }
   ],
   "source": [
    "adj_v2_df.groupby('subset_name').size()"
   ]
  },
  {
   "cell_type": "code",
   "execution_count": 287,
   "id": "95143f5b-d38c-4f53-945c-f542c7c1b98d",
   "metadata": {
    "tags": []
   },
   "outputs": [
    {
     "data": {
      "text/plain": [
       "16461809"
      ]
     },
     "execution_count": 287,
     "metadata": {},
     "output_type": "execute_result"
    }
   ],
   "source": [
    "len(adj_v2_df)"
   ]
  },
  {
   "cell_type": "code",
   "execution_count": 291,
   "id": "a94ba3b3-98d4-4d21-8144-b7e9d0964ff0",
   "metadata": {
    "tags": []
   },
   "outputs": [
    {
     "data": {
      "text/plain": [
       "subset_name\n",
       "wikipedia_id         0.368688\n",
       "wikipedia_min        0.173948\n",
       "wikipedia_ms         0.127253\n",
       "wikipedia_jv         0.068407\n",
       "wikipedia_su         0.056557\n",
       "indo_puisi           0.035102\n",
       "wikihow              0.029720\n",
       "wikipedia_ban        0.028180\n",
       "wikipedia_map-bms    0.023344\n",
       "wikipedia_gor        0.022625\n",
       "wikipedia_bjn        0.020260\n",
       "wikipedia_ace        0.012175\n",
       "dolly                0.010031\n",
       "identity_prompt      0.007593\n",
       "wikipedia_nia        0.007539\n",
       "wikipedia_tet        0.006617\n",
       "wikipedia_bug        0.001961\n",
       "dtype: float64"
      ]
     },
     "execution_count": 291,
     "metadata": {},
     "output_type": "execute_result"
    }
   ],
   "source": [
    "(adj_v2_df.groupby('subset_name').size() / len(adj_v2_df)).sort_values(ascending=False)"
   ]
  },
  {
   "cell_type": "code",
   "execution_count": null,
   "id": "281926d6-1565-4b0a-8c18-1b6d0220efb0",
   "metadata": {},
   "outputs": [],
   "source": []
  }
 ],
 "metadata": {
  "kernelspec": {
   "display_name": "Python 3 (ipykernel)",
   "language": "python",
   "name": "python3"
  },
  "language_info": {
   "codemirror_mode": {
    "name": "ipython",
    "version": 3
   },
   "file_extension": ".py",
   "mimetype": "text/x-python",
   "name": "python",
   "nbconvert_exporter": "python",
   "pygments_lexer": "ipython3",
   "version": "3.11.5"
  }
 },
 "nbformat": 4,
 "nbformat_minor": 5
}
