{
 "cells": [
  {
   "cell_type": "code",
   "execution_count": 1,
   "id": "0b247686-628a-4ab9-9bb6-bdcd7ddc6ae3",
   "metadata": {
    "tags": []
   },
   "outputs": [],
   "source": [
    "import pandas as pd\n",
    "import numpy as np\n",
    "import datasets"
   ]
  },
  {
   "cell_type": "code",
   "execution_count": 13,
   "id": "cf04de0b-55b5-4844-aede-8ae245ca9b60",
   "metadata": {
    "scrolled": true,
    "tags": []
   },
   "outputs": [
    {
     "name": "stderr",
     "output_type": "stream",
     "text": [
      "Found cached dataset x_p3all (/home/scahyawijaya/.cache/huggingface/datasets/bigscience___x_p3all/ak/1.0.0/7240e93470cc8229a6e4c3d42b365eca012da5d8046ad4b0e5e23ca455bda5b1)\n"
     ]
    },
    {
     "data": {
      "application/vnd.jupyter.widget-view+json": {
       "model_id": "6856470e9e914ab7a1d37042fcc31b24",
       "version_major": 2,
       "version_minor": 0
      },
      "text/plain": [
       "  0%|          | 0/1 [00:00<?, ?it/s]"
      ]
     },
     "metadata": {},
     "output_type": "display_data"
    },
    {
     "name": "stderr",
     "output_type": "stream",
     "text": [
      "Loading cached split indices for dataset at /home/scahyawijaya/.cache/huggingface/datasets/bigscience___x_p3all/ak/1.0.0/7240e93470cc8229a6e4c3d42b365eca012da5d8046ad4b0e5e23ca455bda5b1/cache-272a73e0c45cd35c.arrow and /home/scahyawijaya/.cache/huggingface/datasets/bigscience___x_p3all/ak/1.0.0/7240e93470cc8229a6e4c3d42b365eca012da5d8046ad4b0e5e23ca455bda5b1/cache-3784ec676f637655.arrow\n",
      "Found cached dataset x_p3all (/home/scahyawijaya/.cache/huggingface/datasets/bigscience___x_p3all/ar/1.0.0/7240e93470cc8229a6e4c3d42b365eca012da5d8046ad4b0e5e23ca455bda5b1)\n"
     ]
    },
    {
     "data": {
      "application/vnd.jupyter.widget-view+json": {
       "model_id": "382d47c9230246f494790daa21debecc",
       "version_major": 2,
       "version_minor": 0
      },
      "text/plain": [
       "  0%|          | 0/1 [00:00<?, ?it/s]"
      ]
     },
     "metadata": {},
     "output_type": "display_data"
    },
    {
     "name": "stderr",
     "output_type": "stream",
     "text": [
      "Loading cached split indices for dataset at /home/scahyawijaya/.cache/huggingface/datasets/bigscience___x_p3all/ar/1.0.0/7240e93470cc8229a6e4c3d42b365eca012da5d8046ad4b0e5e23ca455bda5b1/cache-28e36b10d1febaa4.arrow and /home/scahyawijaya/.cache/huggingface/datasets/bigscience___x_p3all/ar/1.0.0/7240e93470cc8229a6e4c3d42b365eca012da5d8046ad4b0e5e23ca455bda5b1/cache-e8b8d7f928d99595.arrow\n",
      "Found cached dataset x_p3all (/home/scahyawijaya/.cache/huggingface/datasets/bigscience___x_p3all/as/1.0.0/7240e93470cc8229a6e4c3d42b365eca012da5d8046ad4b0e5e23ca455bda5b1)\n"
     ]
    },
    {
     "data": {
      "application/vnd.jupyter.widget-view+json": {
       "model_id": "b89802b0781f4b30b90af1d3dda2a194",
       "version_major": 2,
       "version_minor": 0
      },
      "text/plain": [
       "  0%|          | 0/1 [00:00<?, ?it/s]"
      ]
     },
     "metadata": {},
     "output_type": "display_data"
    },
    {
     "name": "stderr",
     "output_type": "stream",
     "text": [
      "Loading cached split indices for dataset at /home/scahyawijaya/.cache/huggingface/datasets/bigscience___x_p3all/as/1.0.0/7240e93470cc8229a6e4c3d42b365eca012da5d8046ad4b0e5e23ca455bda5b1/cache-6b5a5b67ba34961b.arrow and /home/scahyawijaya/.cache/huggingface/datasets/bigscience___x_p3all/as/1.0.0/7240e93470cc8229a6e4c3d42b365eca012da5d8046ad4b0e5e23ca455bda5b1/cache-8ae2a5d5b8d02760.arrow\n",
      "Found cached dataset x_p3all (/home/scahyawijaya/.cache/huggingface/datasets/bigscience___x_p3all/bm/1.0.0/7240e93470cc8229a6e4c3d42b365eca012da5d8046ad4b0e5e23ca455bda5b1)\n"
     ]
    },
    {
     "data": {
      "application/vnd.jupyter.widget-view+json": {
       "model_id": "2d7170c2364a4cef817fbc861a40d605",
       "version_major": 2,
       "version_minor": 0
      },
      "text/plain": [
       "  0%|          | 0/1 [00:00<?, ?it/s]"
      ]
     },
     "metadata": {},
     "output_type": "display_data"
    },
    {
     "name": "stderr",
     "output_type": "stream",
     "text": [
      "Loading cached split indices for dataset at /home/scahyawijaya/.cache/huggingface/datasets/bigscience___x_p3all/bm/1.0.0/7240e93470cc8229a6e4c3d42b365eca012da5d8046ad4b0e5e23ca455bda5b1/cache-8450671b8181f299.arrow and /home/scahyawijaya/.cache/huggingface/datasets/bigscience___x_p3all/bm/1.0.0/7240e93470cc8229a6e4c3d42b365eca012da5d8046ad4b0e5e23ca455bda5b1/cache-b289dbc043f2b4c1.arrow\n",
      "Found cached dataset x_p3all (/home/scahyawijaya/.cache/huggingface/datasets/bigscience___x_p3all/bn/1.0.0/7240e93470cc8229a6e4c3d42b365eca012da5d8046ad4b0e5e23ca455bda5b1)\n"
     ]
    },
    {
     "data": {
      "application/vnd.jupyter.widget-view+json": {
       "model_id": "6601d6da271d4ba988632facfebeee0e",
       "version_major": 2,
       "version_minor": 0
      },
      "text/plain": [
       "  0%|          | 0/1 [00:00<?, ?it/s]"
      ]
     },
     "metadata": {},
     "output_type": "display_data"
    },
    {
     "name": "stderr",
     "output_type": "stream",
     "text": [
      "Loading cached split indices for dataset at /home/scahyawijaya/.cache/huggingface/datasets/bigscience___x_p3all/bn/1.0.0/7240e93470cc8229a6e4c3d42b365eca012da5d8046ad4b0e5e23ca455bda5b1/cache-8d29847c47b54dde.arrow and /home/scahyawijaya/.cache/huggingface/datasets/bigscience___x_p3all/bn/1.0.0/7240e93470cc8229a6e4c3d42b365eca012da5d8046ad4b0e5e23ca455bda5b1/cache-ed6908ca6a5dd3b1.arrow\n",
      "Found cached dataset x_p3all (/home/scahyawijaya/.cache/huggingface/datasets/bigscience___x_p3all/ca/1.0.0/7240e93470cc8229a6e4c3d42b365eca012da5d8046ad4b0e5e23ca455bda5b1)\n"
     ]
    },
    {
     "data": {
      "application/vnd.jupyter.widget-view+json": {
       "model_id": "7868f6b8a6d74a5fa1d8367e92210b60",
       "version_major": 2,
       "version_minor": 0
      },
      "text/plain": [
       "  0%|          | 0/1 [00:00<?, ?it/s]"
      ]
     },
     "metadata": {},
     "output_type": "display_data"
    },
    {
     "name": "stderr",
     "output_type": "stream",
     "text": [
      "Loading cached split indices for dataset at /home/scahyawijaya/.cache/huggingface/datasets/bigscience___x_p3all/ca/1.0.0/7240e93470cc8229a6e4c3d42b365eca012da5d8046ad4b0e5e23ca455bda5b1/cache-e4c7c74dbddebb1b.arrow and /home/scahyawijaya/.cache/huggingface/datasets/bigscience___x_p3all/ca/1.0.0/7240e93470cc8229a6e4c3d42b365eca012da5d8046ad4b0e5e23ca455bda5b1/cache-db42de7fc00bfdc4.arrow\n",
      "Found cached dataset x_p3all (/home/scahyawijaya/.cache/huggingface/datasets/bigscience___x_p3all/code/1.0.0/7240e93470cc8229a6e4c3d42b365eca012da5d8046ad4b0e5e23ca455bda5b1)\n"
     ]
    },
    {
     "data": {
      "application/vnd.jupyter.widget-view+json": {
       "model_id": "ab9ca7054da24326bea8dc9361a5d9f5",
       "version_major": 2,
       "version_minor": 0
      },
      "text/plain": [
       "  0%|          | 0/1 [00:00<?, ?it/s]"
      ]
     },
     "metadata": {},
     "output_type": "display_data"
    },
    {
     "name": "stderr",
     "output_type": "stream",
     "text": [
      "Loading cached split indices for dataset at /home/scahyawijaya/.cache/huggingface/datasets/bigscience___x_p3all/code/1.0.0/7240e93470cc8229a6e4c3d42b365eca012da5d8046ad4b0e5e23ca455bda5b1/cache-469e003fd0dbd6f6.arrow and /home/scahyawijaya/.cache/huggingface/datasets/bigscience___x_p3all/code/1.0.0/7240e93470cc8229a6e4c3d42b365eca012da5d8046ad4b0e5e23ca455bda5b1/cache-1db06c167d6ccc6e.arrow\n",
      "Found cached dataset x_p3all (/home/scahyawijaya/.cache/huggingface/datasets/bigscience___x_p3all/en/1.0.0/7240e93470cc8229a6e4c3d42b365eca012da5d8046ad4b0e5e23ca455bda5b1)\n"
     ]
    },
    {
     "data": {
      "application/vnd.jupyter.widget-view+json": {
       "model_id": "856d44e160f74c079e80d063e4fd7ac4",
       "version_major": 2,
       "version_minor": 0
      },
      "text/plain": [
       "  0%|          | 0/1 [00:00<?, ?it/s]"
      ]
     },
     "metadata": {},
     "output_type": "display_data"
    },
    {
     "name": "stderr",
     "output_type": "stream",
     "text": [
      "Loading cached split indices for dataset at /home/scahyawijaya/.cache/huggingface/datasets/bigscience___x_p3all/en/1.0.0/7240e93470cc8229a6e4c3d42b365eca012da5d8046ad4b0e5e23ca455bda5b1/cache-cb0ac952d7b93c02.arrow and /home/scahyawijaya/.cache/huggingface/datasets/bigscience___x_p3all/en/1.0.0/7240e93470cc8229a6e4c3d42b365eca012da5d8046ad4b0e5e23ca455bda5b1/cache-1079bd9faad58a65.arrow\n",
      "Found cached dataset x_p3all (/home/scahyawijaya/.cache/huggingface/datasets/bigscience___x_p3all/es/1.0.0/7240e93470cc8229a6e4c3d42b365eca012da5d8046ad4b0e5e23ca455bda5b1)\n"
     ]
    },
    {
     "data": {
      "application/vnd.jupyter.widget-view+json": {
       "model_id": "bf785158f809420987430be53c97d791",
       "version_major": 2,
       "version_minor": 0
      },
      "text/plain": [
       "  0%|          | 0/1 [00:00<?, ?it/s]"
      ]
     },
     "metadata": {},
     "output_type": "display_data"
    },
    {
     "name": "stderr",
     "output_type": "stream",
     "text": [
      "Loading cached split indices for dataset at /home/scahyawijaya/.cache/huggingface/datasets/bigscience___x_p3all/es/1.0.0/7240e93470cc8229a6e4c3d42b365eca012da5d8046ad4b0e5e23ca455bda5b1/cache-124452336a637d0e.arrow and /home/scahyawijaya/.cache/huggingface/datasets/bigscience___x_p3all/es/1.0.0/7240e93470cc8229a6e4c3d42b365eca012da5d8046ad4b0e5e23ca455bda5b1/cache-b544db97c546c526.arrow\n",
      "Found cached dataset x_p3all (/home/scahyawijaya/.cache/huggingface/datasets/bigscience___x_p3all/eu/1.0.0/7240e93470cc8229a6e4c3d42b365eca012da5d8046ad4b0e5e23ca455bda5b1)\n"
     ]
    },
    {
     "data": {
      "application/vnd.jupyter.widget-view+json": {
       "model_id": "0267f44ae2714a2893814d7ffce66b64",
       "version_major": 2,
       "version_minor": 0
      },
      "text/plain": [
       "  0%|          | 0/1 [00:00<?, ?it/s]"
      ]
     },
     "metadata": {},
     "output_type": "display_data"
    },
    {
     "name": "stderr",
     "output_type": "stream",
     "text": [
      "Loading cached split indices for dataset at /home/scahyawijaya/.cache/huggingface/datasets/bigscience___x_p3all/eu/1.0.0/7240e93470cc8229a6e4c3d42b365eca012da5d8046ad4b0e5e23ca455bda5b1/cache-504188781e977305.arrow and /home/scahyawijaya/.cache/huggingface/datasets/bigscience___x_p3all/eu/1.0.0/7240e93470cc8229a6e4c3d42b365eca012da5d8046ad4b0e5e23ca455bda5b1/cache-db0f8041eb528226.arrow\n",
      "Found cached dataset x_p3all (/home/scahyawijaya/.cache/huggingface/datasets/bigscience___x_p3all/fon/1.0.0/7240e93470cc8229a6e4c3d42b365eca012da5d8046ad4b0e5e23ca455bda5b1)\n"
     ]
    },
    {
     "data": {
      "application/vnd.jupyter.widget-view+json": {
       "model_id": "cc3cc59690d74538b3f35e8ec75bf712",
       "version_major": 2,
       "version_minor": 0
      },
      "text/plain": [
       "  0%|          | 0/1 [00:00<?, ?it/s]"
      ]
     },
     "metadata": {},
     "output_type": "display_data"
    },
    {
     "name": "stderr",
     "output_type": "stream",
     "text": [
      "Loading cached split indices for dataset at /home/scahyawijaya/.cache/huggingface/datasets/bigscience___x_p3all/fon/1.0.0/7240e93470cc8229a6e4c3d42b365eca012da5d8046ad4b0e5e23ca455bda5b1/cache-f40d814334cedb7b.arrow and /home/scahyawijaya/.cache/huggingface/datasets/bigscience___x_p3all/fon/1.0.0/7240e93470cc8229a6e4c3d42b365eca012da5d8046ad4b0e5e23ca455bda5b1/cache-9b84d30d0f5c7eb3.arrow\n",
      "Found cached dataset x_p3all (/home/scahyawijaya/.cache/huggingface/datasets/bigscience___x_p3all/fr/1.0.0/7240e93470cc8229a6e4c3d42b365eca012da5d8046ad4b0e5e23ca455bda5b1)\n"
     ]
    },
    {
     "data": {
      "application/vnd.jupyter.widget-view+json": {
       "model_id": "b60c0d4160b841d39acb87f0e6e35067",
       "version_major": 2,
       "version_minor": 0
      },
      "text/plain": [
       "  0%|          | 0/1 [00:00<?, ?it/s]"
      ]
     },
     "metadata": {},
     "output_type": "display_data"
    },
    {
     "name": "stderr",
     "output_type": "stream",
     "text": [
      "Loading cached split indices for dataset at /home/scahyawijaya/.cache/huggingface/datasets/bigscience___x_p3all/fr/1.0.0/7240e93470cc8229a6e4c3d42b365eca012da5d8046ad4b0e5e23ca455bda5b1/cache-cd8ce4c4430b7477.arrow and /home/scahyawijaya/.cache/huggingface/datasets/bigscience___x_p3all/fr/1.0.0/7240e93470cc8229a6e4c3d42b365eca012da5d8046ad4b0e5e23ca455bda5b1/cache-8fd00f5c220fe249.arrow\n",
      "Found cached dataset x_p3all (/home/scahyawijaya/.cache/huggingface/datasets/bigscience___x_p3all/gu/1.0.0/7240e93470cc8229a6e4c3d42b365eca012da5d8046ad4b0e5e23ca455bda5b1)\n"
     ]
    },
    {
     "data": {
      "application/vnd.jupyter.widget-view+json": {
       "model_id": "a1f2a1db73794055889841a6676e5b03",
       "version_major": 2,
       "version_minor": 0
      },
      "text/plain": [
       "  0%|          | 0/1 [00:00<?, ?it/s]"
      ]
     },
     "metadata": {},
     "output_type": "display_data"
    },
    {
     "name": "stderr",
     "output_type": "stream",
     "text": [
      "Loading cached split indices for dataset at /home/scahyawijaya/.cache/huggingface/datasets/bigscience___x_p3all/gu/1.0.0/7240e93470cc8229a6e4c3d42b365eca012da5d8046ad4b0e5e23ca455bda5b1/cache-a6225ef446b46b51.arrow and /home/scahyawijaya/.cache/huggingface/datasets/bigscience___x_p3all/gu/1.0.0/7240e93470cc8229a6e4c3d42b365eca012da5d8046ad4b0e5e23ca455bda5b1/cache-b7a3b2a19dd69e8a.arrow\n",
      "Found cached dataset x_p3all (/home/scahyawijaya/.cache/huggingface/datasets/bigscience___x_p3all/hi/1.0.0/7240e93470cc8229a6e4c3d42b365eca012da5d8046ad4b0e5e23ca455bda5b1)\n"
     ]
    },
    {
     "data": {
      "application/vnd.jupyter.widget-view+json": {
       "model_id": "e2f9990c019a4bd0a0c95c1142bb4c94",
       "version_major": 2,
       "version_minor": 0
      },
      "text/plain": [
       "  0%|          | 0/1 [00:00<?, ?it/s]"
      ]
     },
     "metadata": {},
     "output_type": "display_data"
    },
    {
     "name": "stderr",
     "output_type": "stream",
     "text": [
      "Loading cached split indices for dataset at /home/scahyawijaya/.cache/huggingface/datasets/bigscience___x_p3all/hi/1.0.0/7240e93470cc8229a6e4c3d42b365eca012da5d8046ad4b0e5e23ca455bda5b1/cache-2ea1952315c7836b.arrow and /home/scahyawijaya/.cache/huggingface/datasets/bigscience___x_p3all/hi/1.0.0/7240e93470cc8229a6e4c3d42b365eca012da5d8046ad4b0e5e23ca455bda5b1/cache-17c1247963e460fc.arrow\n",
      "Found cached dataset x_p3all (/home/scahyawijaya/.cache/huggingface/datasets/bigscience___x_p3all/id/1.0.0/7240e93470cc8229a6e4c3d42b365eca012da5d8046ad4b0e5e23ca455bda5b1)\n"
     ]
    },
    {
     "data": {
      "application/vnd.jupyter.widget-view+json": {
       "model_id": "a8e6a7794371464db7aa594dd9db2d53",
       "version_major": 2,
       "version_minor": 0
      },
      "text/plain": [
       "  0%|          | 0/1 [00:00<?, ?it/s]"
      ]
     },
     "metadata": {},
     "output_type": "display_data"
    },
    {
     "name": "stderr",
     "output_type": "stream",
     "text": [
      "Loading cached split indices for dataset at /home/scahyawijaya/.cache/huggingface/datasets/bigscience___x_p3all/id/1.0.0/7240e93470cc8229a6e4c3d42b365eca012da5d8046ad4b0e5e23ca455bda5b1/cache-244580464dab15a2.arrow and /home/scahyawijaya/.cache/huggingface/datasets/bigscience___x_p3all/id/1.0.0/7240e93470cc8229a6e4c3d42b365eca012da5d8046ad4b0e5e23ca455bda5b1/cache-7821ac8260a34bc0.arrow\n",
      "Found cached dataset x_p3all (/home/scahyawijaya/.cache/huggingface/datasets/bigscience___x_p3all/ig/1.0.0/7240e93470cc8229a6e4c3d42b365eca012da5d8046ad4b0e5e23ca455bda5b1)\n"
     ]
    },
    {
     "data": {
      "application/vnd.jupyter.widget-view+json": {
       "model_id": "c3b9d92a1d71451fb74f2b1e3e60c4cb",
       "version_major": 2,
       "version_minor": 0
      },
      "text/plain": [
       "  0%|          | 0/1 [00:00<?, ?it/s]"
      ]
     },
     "metadata": {},
     "output_type": "display_data"
    },
    {
     "name": "stderr",
     "output_type": "stream",
     "text": [
      "Loading cached split indices for dataset at /home/scahyawijaya/.cache/huggingface/datasets/bigscience___x_p3all/ig/1.0.0/7240e93470cc8229a6e4c3d42b365eca012da5d8046ad4b0e5e23ca455bda5b1/cache-1a295cad35723376.arrow and /home/scahyawijaya/.cache/huggingface/datasets/bigscience___x_p3all/ig/1.0.0/7240e93470cc8229a6e4c3d42b365eca012da5d8046ad4b0e5e23ca455bda5b1/cache-5751cb5b878388bb.arrow\n",
      "Found cached dataset x_p3all (/home/scahyawijaya/.cache/huggingface/datasets/bigscience___x_p3all/ki/1.0.0/7240e93470cc8229a6e4c3d42b365eca012da5d8046ad4b0e5e23ca455bda5b1)\n"
     ]
    },
    {
     "data": {
      "application/vnd.jupyter.widget-view+json": {
       "model_id": "2cc84fef66b946d693b31d0e70be0527",
       "version_major": 2,
       "version_minor": 0
      },
      "text/plain": [
       "  0%|          | 0/1 [00:00<?, ?it/s]"
      ]
     },
     "metadata": {},
     "output_type": "display_data"
    },
    {
     "name": "stderr",
     "output_type": "stream",
     "text": [
      "Loading cached split indices for dataset at /home/scahyawijaya/.cache/huggingface/datasets/bigscience___x_p3all/ki/1.0.0/7240e93470cc8229a6e4c3d42b365eca012da5d8046ad4b0e5e23ca455bda5b1/cache-9941df877ea8e5b2.arrow and /home/scahyawijaya/.cache/huggingface/datasets/bigscience___x_p3all/ki/1.0.0/7240e93470cc8229a6e4c3d42b365eca012da5d8046ad4b0e5e23ca455bda5b1/cache-636b2ab892a59495.arrow\n",
      "Found cached dataset x_p3all (/home/scahyawijaya/.cache/huggingface/datasets/bigscience___x_p3all/kn/1.0.0/7240e93470cc8229a6e4c3d42b365eca012da5d8046ad4b0e5e23ca455bda5b1)\n"
     ]
    },
    {
     "data": {
      "application/vnd.jupyter.widget-view+json": {
       "model_id": "1958cbb4f7ff4ba3a7c34404b82a6779",
       "version_major": 2,
       "version_minor": 0
      },
      "text/plain": [
       "  0%|          | 0/1 [00:00<?, ?it/s]"
      ]
     },
     "metadata": {},
     "output_type": "display_data"
    },
    {
     "name": "stderr",
     "output_type": "stream",
     "text": [
      "Loading cached split indices for dataset at /home/scahyawijaya/.cache/huggingface/datasets/bigscience___x_p3all/kn/1.0.0/7240e93470cc8229a6e4c3d42b365eca012da5d8046ad4b0e5e23ca455bda5b1/cache-bf7deb056c1c1530.arrow and /home/scahyawijaya/.cache/huggingface/datasets/bigscience___x_p3all/kn/1.0.0/7240e93470cc8229a6e4c3d42b365eca012da5d8046ad4b0e5e23ca455bda5b1/cache-501a72ff5eea00b2.arrow\n",
      "Found cached dataset x_p3all (/home/scahyawijaya/.cache/huggingface/datasets/bigscience___x_p3all/lg/1.0.0/7240e93470cc8229a6e4c3d42b365eca012da5d8046ad4b0e5e23ca455bda5b1)\n"
     ]
    },
    {
     "data": {
      "application/vnd.jupyter.widget-view+json": {
       "model_id": "ba80d8ba30ce46c4a9f7858f23546cdb",
       "version_major": 2,
       "version_minor": 0
      },
      "text/plain": [
       "  0%|          | 0/1 [00:00<?, ?it/s]"
      ]
     },
     "metadata": {},
     "output_type": "display_data"
    },
    {
     "name": "stderr",
     "output_type": "stream",
     "text": [
      "Loading cached split indices for dataset at /home/scahyawijaya/.cache/huggingface/datasets/bigscience___x_p3all/lg/1.0.0/7240e93470cc8229a6e4c3d42b365eca012da5d8046ad4b0e5e23ca455bda5b1/cache-e6ee797f0885c943.arrow and /home/scahyawijaya/.cache/huggingface/datasets/bigscience___x_p3all/lg/1.0.0/7240e93470cc8229a6e4c3d42b365eca012da5d8046ad4b0e5e23ca455bda5b1/cache-dc997aa82d4f01e0.arrow\n",
      "Found cached dataset x_p3all (/home/scahyawijaya/.cache/huggingface/datasets/bigscience___x_p3all/ln/1.0.0/7240e93470cc8229a6e4c3d42b365eca012da5d8046ad4b0e5e23ca455bda5b1)\n"
     ]
    },
    {
     "data": {
      "application/vnd.jupyter.widget-view+json": {
       "model_id": "ea46b506514b4e8080b7d293f3f4654a",
       "version_major": 2,
       "version_minor": 0
      },
      "text/plain": [
       "  0%|          | 0/1 [00:00<?, ?it/s]"
      ]
     },
     "metadata": {},
     "output_type": "display_data"
    },
    {
     "name": "stderr",
     "output_type": "stream",
     "text": [
      "Loading cached split indices for dataset at /home/scahyawijaya/.cache/huggingface/datasets/bigscience___x_p3all/ln/1.0.0/7240e93470cc8229a6e4c3d42b365eca012da5d8046ad4b0e5e23ca455bda5b1/cache-b8e899badd0495ab.arrow and /home/scahyawijaya/.cache/huggingface/datasets/bigscience___x_p3all/ln/1.0.0/7240e93470cc8229a6e4c3d42b365eca012da5d8046ad4b0e5e23ca455bda5b1/cache-32798e148fa44175.arrow\n",
      "Found cached dataset x_p3all (/home/scahyawijaya/.cache/huggingface/datasets/bigscience___x_p3all/ml/1.0.0/7240e93470cc8229a6e4c3d42b365eca012da5d8046ad4b0e5e23ca455bda5b1)\n"
     ]
    },
    {
     "data": {
      "application/vnd.jupyter.widget-view+json": {
       "model_id": "c24ba06b84a74c42839460fe3e8a4b1b",
       "version_major": 2,
       "version_minor": 0
      },
      "text/plain": [
       "  0%|          | 0/1 [00:00<?, ?it/s]"
      ]
     },
     "metadata": {},
     "output_type": "display_data"
    },
    {
     "name": "stderr",
     "output_type": "stream",
     "text": [
      "Loading cached split indices for dataset at /home/scahyawijaya/.cache/huggingface/datasets/bigscience___x_p3all/ml/1.0.0/7240e93470cc8229a6e4c3d42b365eca012da5d8046ad4b0e5e23ca455bda5b1/cache-78ece83b1962d791.arrow and /home/scahyawijaya/.cache/huggingface/datasets/bigscience___x_p3all/ml/1.0.0/7240e93470cc8229a6e4c3d42b365eca012da5d8046ad4b0e5e23ca455bda5b1/cache-c2442abad8fbfb61.arrow\n",
      "Found cached dataset x_p3all (/home/scahyawijaya/.cache/huggingface/datasets/bigscience___x_p3all/mr/1.0.0/7240e93470cc8229a6e4c3d42b365eca012da5d8046ad4b0e5e23ca455bda5b1)\n"
     ]
    },
    {
     "data": {
      "application/vnd.jupyter.widget-view+json": {
       "model_id": "077b20ba1ac649d6a23bbdd73a5dd2f1",
       "version_major": 2,
       "version_minor": 0
      },
      "text/plain": [
       "  0%|          | 0/1 [00:00<?, ?it/s]"
      ]
     },
     "metadata": {},
     "output_type": "display_data"
    },
    {
     "name": "stderr",
     "output_type": "stream",
     "text": [
      "Loading cached split indices for dataset at /home/scahyawijaya/.cache/huggingface/datasets/bigscience___x_p3all/mr/1.0.0/7240e93470cc8229a6e4c3d42b365eca012da5d8046ad4b0e5e23ca455bda5b1/cache-90f3fbbfe4c2dbff.arrow and /home/scahyawijaya/.cache/huggingface/datasets/bigscience___x_p3all/mr/1.0.0/7240e93470cc8229a6e4c3d42b365eca012da5d8046ad4b0e5e23ca455bda5b1/cache-4780a5ee56f38bf9.arrow\n",
      "Found cached dataset x_p3all (/home/scahyawijaya/.cache/huggingface/datasets/bigscience___x_p3all/ne/1.0.0/7240e93470cc8229a6e4c3d42b365eca012da5d8046ad4b0e5e23ca455bda5b1)\n"
     ]
    },
    {
     "data": {
      "application/vnd.jupyter.widget-view+json": {
       "model_id": "c991201b832842faae330f942e2ccb27",
       "version_major": 2,
       "version_minor": 0
      },
      "text/plain": [
       "  0%|          | 0/1 [00:00<?, ?it/s]"
      ]
     },
     "metadata": {},
     "output_type": "display_data"
    },
    {
     "name": "stderr",
     "output_type": "stream",
     "text": [
      "Loading cached split indices for dataset at /home/scahyawijaya/.cache/huggingface/datasets/bigscience___x_p3all/ne/1.0.0/7240e93470cc8229a6e4c3d42b365eca012da5d8046ad4b0e5e23ca455bda5b1/cache-ec22eb9846a97d07.arrow and /home/scahyawijaya/.cache/huggingface/datasets/bigscience___x_p3all/ne/1.0.0/7240e93470cc8229a6e4c3d42b365eca012da5d8046ad4b0e5e23ca455bda5b1/cache-e0de3f4a428b465c.arrow\n",
      "Found cached dataset x_p3all (/home/scahyawijaya/.cache/huggingface/datasets/bigscience___x_p3all/nso/1.0.0/7240e93470cc8229a6e4c3d42b365eca012da5d8046ad4b0e5e23ca455bda5b1)\n"
     ]
    },
    {
     "data": {
      "application/vnd.jupyter.widget-view+json": {
       "model_id": "f7dd5e28e3c349ab9a4a480fb7d19e9b",
       "version_major": 2,
       "version_minor": 0
      },
      "text/plain": [
       "  0%|          | 0/1 [00:00<?, ?it/s]"
      ]
     },
     "metadata": {},
     "output_type": "display_data"
    },
    {
     "name": "stderr",
     "output_type": "stream",
     "text": [
      "Loading cached split indices for dataset at /home/scahyawijaya/.cache/huggingface/datasets/bigscience___x_p3all/nso/1.0.0/7240e93470cc8229a6e4c3d42b365eca012da5d8046ad4b0e5e23ca455bda5b1/cache-aae9b9025b599538.arrow and /home/scahyawijaya/.cache/huggingface/datasets/bigscience___x_p3all/nso/1.0.0/7240e93470cc8229a6e4c3d42b365eca012da5d8046ad4b0e5e23ca455bda5b1/cache-d542863fe5675e62.arrow\n",
      "Found cached dataset x_p3all (/home/scahyawijaya/.cache/huggingface/datasets/bigscience___x_p3all/ny/1.0.0/7240e93470cc8229a6e4c3d42b365eca012da5d8046ad4b0e5e23ca455bda5b1)\n"
     ]
    },
    {
     "data": {
      "application/vnd.jupyter.widget-view+json": {
       "model_id": "2f196e3fb0494b59a3e263ddc12204fe",
       "version_major": 2,
       "version_minor": 0
      },
      "text/plain": [
       "  0%|          | 0/1 [00:00<?, ?it/s]"
      ]
     },
     "metadata": {},
     "output_type": "display_data"
    },
    {
     "name": "stderr",
     "output_type": "stream",
     "text": [
      "Loading cached split indices for dataset at /home/scahyawijaya/.cache/huggingface/datasets/bigscience___x_p3all/ny/1.0.0/7240e93470cc8229a6e4c3d42b365eca012da5d8046ad4b0e5e23ca455bda5b1/cache-241e74dee504ecc8.arrow and /home/scahyawijaya/.cache/huggingface/datasets/bigscience___x_p3all/ny/1.0.0/7240e93470cc8229a6e4c3d42b365eca012da5d8046ad4b0e5e23ca455bda5b1/cache-9737846fc5052d4a.arrow\n",
      "Found cached dataset x_p3all (/home/scahyawijaya/.cache/huggingface/datasets/bigscience___x_p3all/or/1.0.0/7240e93470cc8229a6e4c3d42b365eca012da5d8046ad4b0e5e23ca455bda5b1)\n"
     ]
    },
    {
     "data": {
      "application/vnd.jupyter.widget-view+json": {
       "model_id": "224f014dfa1d429da8f1517ddaaa52c6",
       "version_major": 2,
       "version_minor": 0
      },
      "text/plain": [
       "  0%|          | 0/1 [00:00<?, ?it/s]"
      ]
     },
     "metadata": {},
     "output_type": "display_data"
    },
    {
     "name": "stderr",
     "output_type": "stream",
     "text": [
      "Loading cached split indices for dataset at /home/scahyawijaya/.cache/huggingface/datasets/bigscience___x_p3all/or/1.0.0/7240e93470cc8229a6e4c3d42b365eca012da5d8046ad4b0e5e23ca455bda5b1/cache-7ef9e922e3b5ff3e.arrow and /home/scahyawijaya/.cache/huggingface/datasets/bigscience___x_p3all/or/1.0.0/7240e93470cc8229a6e4c3d42b365eca012da5d8046ad4b0e5e23ca455bda5b1/cache-6d1d1e29734b0fb4.arrow\n",
      "Found cached dataset x_p3all (/home/scahyawijaya/.cache/huggingface/datasets/bigscience___x_p3all/pa/1.0.0/7240e93470cc8229a6e4c3d42b365eca012da5d8046ad4b0e5e23ca455bda5b1)\n"
     ]
    },
    {
     "data": {
      "application/vnd.jupyter.widget-view+json": {
       "model_id": "f80fdb20e3fb45fa9aec0fedd711eb88",
       "version_major": 2,
       "version_minor": 0
      },
      "text/plain": [
       "  0%|          | 0/1 [00:00<?, ?it/s]"
      ]
     },
     "metadata": {},
     "output_type": "display_data"
    },
    {
     "name": "stderr",
     "output_type": "stream",
     "text": [
      "Loading cached split indices for dataset at /home/scahyawijaya/.cache/huggingface/datasets/bigscience___x_p3all/pa/1.0.0/7240e93470cc8229a6e4c3d42b365eca012da5d8046ad4b0e5e23ca455bda5b1/cache-7a5097cd6e3e818d.arrow and /home/scahyawijaya/.cache/huggingface/datasets/bigscience___x_p3all/pa/1.0.0/7240e93470cc8229a6e4c3d42b365eca012da5d8046ad4b0e5e23ca455bda5b1/cache-6d552a47cccdca13.arrow\n",
      "Found cached dataset x_p3all (/home/scahyawijaya/.cache/huggingface/datasets/bigscience___x_p3all/pt/1.0.0/7240e93470cc8229a6e4c3d42b365eca012da5d8046ad4b0e5e23ca455bda5b1)\n"
     ]
    },
    {
     "data": {
      "application/vnd.jupyter.widget-view+json": {
       "model_id": "b5b670c6aef646f59bdc48c11b741712",
       "version_major": 2,
       "version_minor": 0
      },
      "text/plain": [
       "  0%|          | 0/1 [00:00<?, ?it/s]"
      ]
     },
     "metadata": {},
     "output_type": "display_data"
    },
    {
     "name": "stderr",
     "output_type": "stream",
     "text": [
      "Loading cached split indices for dataset at /home/scahyawijaya/.cache/huggingface/datasets/bigscience___x_p3all/pt/1.0.0/7240e93470cc8229a6e4c3d42b365eca012da5d8046ad4b0e5e23ca455bda5b1/cache-989ec4471d571391.arrow and /home/scahyawijaya/.cache/huggingface/datasets/bigscience___x_p3all/pt/1.0.0/7240e93470cc8229a6e4c3d42b365eca012da5d8046ad4b0e5e23ca455bda5b1/cache-11e7c052eece4347.arrow\n",
      "Found cached dataset x_p3all (/home/scahyawijaya/.cache/huggingface/datasets/bigscience___x_p3all/rn/1.0.0/7240e93470cc8229a6e4c3d42b365eca012da5d8046ad4b0e5e23ca455bda5b1)\n"
     ]
    },
    {
     "data": {
      "application/vnd.jupyter.widget-view+json": {
       "model_id": "c16b4858022d4ef2a1d5f681ee863d7d",
       "version_major": 2,
       "version_minor": 0
      },
      "text/plain": [
       "  0%|          | 0/1 [00:00<?, ?it/s]"
      ]
     },
     "metadata": {},
     "output_type": "display_data"
    },
    {
     "name": "stderr",
     "output_type": "stream",
     "text": [
      "Loading cached split indices for dataset at /home/scahyawijaya/.cache/huggingface/datasets/bigscience___x_p3all/rn/1.0.0/7240e93470cc8229a6e4c3d42b365eca012da5d8046ad4b0e5e23ca455bda5b1/cache-e746472cc901c4a8.arrow and /home/scahyawijaya/.cache/huggingface/datasets/bigscience___x_p3all/rn/1.0.0/7240e93470cc8229a6e4c3d42b365eca012da5d8046ad4b0e5e23ca455bda5b1/cache-1d98cc11734282cf.arrow\n",
      "Found cached dataset x_p3all (/home/scahyawijaya/.cache/huggingface/datasets/bigscience___x_p3all/rw/1.0.0/7240e93470cc8229a6e4c3d42b365eca012da5d8046ad4b0e5e23ca455bda5b1)\n"
     ]
    },
    {
     "data": {
      "application/vnd.jupyter.widget-view+json": {
       "model_id": "a442d719cbaf4269917703d08bce7c6c",
       "version_major": 2,
       "version_minor": 0
      },
      "text/plain": [
       "  0%|          | 0/1 [00:00<?, ?it/s]"
      ]
     },
     "metadata": {},
     "output_type": "display_data"
    },
    {
     "name": "stderr",
     "output_type": "stream",
     "text": [
      "Loading cached split indices for dataset at /home/scahyawijaya/.cache/huggingface/datasets/bigscience___x_p3all/rw/1.0.0/7240e93470cc8229a6e4c3d42b365eca012da5d8046ad4b0e5e23ca455bda5b1/cache-c006d349ea32e678.arrow and /home/scahyawijaya/.cache/huggingface/datasets/bigscience___x_p3all/rw/1.0.0/7240e93470cc8229a6e4c3d42b365eca012da5d8046ad4b0e5e23ca455bda5b1/cache-ef5bf5c7f1026805.arrow\n",
      "Found cached dataset x_p3all (/home/scahyawijaya/.cache/huggingface/datasets/bigscience___x_p3all/sn/1.0.0/7240e93470cc8229a6e4c3d42b365eca012da5d8046ad4b0e5e23ca455bda5b1)\n"
     ]
    },
    {
     "data": {
      "application/vnd.jupyter.widget-view+json": {
       "model_id": "8207b97ba69f405980bdf5a7b57ec2db",
       "version_major": 2,
       "version_minor": 0
      },
      "text/plain": [
       "  0%|          | 0/1 [00:00<?, ?it/s]"
      ]
     },
     "metadata": {},
     "output_type": "display_data"
    },
    {
     "name": "stderr",
     "output_type": "stream",
     "text": [
      "Loading cached split indices for dataset at /home/scahyawijaya/.cache/huggingface/datasets/bigscience___x_p3all/sn/1.0.0/7240e93470cc8229a6e4c3d42b365eca012da5d8046ad4b0e5e23ca455bda5b1/cache-0d2ce772f29dd3cb.arrow and /home/scahyawijaya/.cache/huggingface/datasets/bigscience___x_p3all/sn/1.0.0/7240e93470cc8229a6e4c3d42b365eca012da5d8046ad4b0e5e23ca455bda5b1/cache-7fea33a8cf38234b.arrow\n",
      "Found cached dataset x_p3all (/home/scahyawijaya/.cache/huggingface/datasets/bigscience___x_p3all/st/1.0.0/7240e93470cc8229a6e4c3d42b365eca012da5d8046ad4b0e5e23ca455bda5b1)\n"
     ]
    },
    {
     "data": {
      "application/vnd.jupyter.widget-view+json": {
       "model_id": "78d66cc714834adcbe228404d01c32c4",
       "version_major": 2,
       "version_minor": 0
      },
      "text/plain": [
       "  0%|          | 0/1 [00:00<?, ?it/s]"
      ]
     },
     "metadata": {},
     "output_type": "display_data"
    },
    {
     "name": "stderr",
     "output_type": "stream",
     "text": [
      "Loading cached split indices for dataset at /home/scahyawijaya/.cache/huggingface/datasets/bigscience___x_p3all/st/1.0.0/7240e93470cc8229a6e4c3d42b365eca012da5d8046ad4b0e5e23ca455bda5b1/cache-dc716be424aeaf6b.arrow and /home/scahyawijaya/.cache/huggingface/datasets/bigscience___x_p3all/st/1.0.0/7240e93470cc8229a6e4c3d42b365eca012da5d8046ad4b0e5e23ca455bda5b1/cache-45e3861b1e68903d.arrow\n",
      "Found cached dataset x_p3all (/home/scahyawijaya/.cache/huggingface/datasets/bigscience___x_p3all/sw/1.0.0/7240e93470cc8229a6e4c3d42b365eca012da5d8046ad4b0e5e23ca455bda5b1)\n"
     ]
    },
    {
     "data": {
      "application/vnd.jupyter.widget-view+json": {
       "model_id": "999fcb8774cd4d5faa2019d9d04b31d1",
       "version_major": 2,
       "version_minor": 0
      },
      "text/plain": [
       "  0%|          | 0/1 [00:00<?, ?it/s]"
      ]
     },
     "metadata": {},
     "output_type": "display_data"
    },
    {
     "name": "stderr",
     "output_type": "stream",
     "text": [
      "Loading cached split indices for dataset at /home/scahyawijaya/.cache/huggingface/datasets/bigscience___x_p3all/sw/1.0.0/7240e93470cc8229a6e4c3d42b365eca012da5d8046ad4b0e5e23ca455bda5b1/cache-45b2ff891b5e9fc9.arrow and /home/scahyawijaya/.cache/huggingface/datasets/bigscience___x_p3all/sw/1.0.0/7240e93470cc8229a6e4c3d42b365eca012da5d8046ad4b0e5e23ca455bda5b1/cache-040f2145aa0c4801.arrow\n",
      "Found cached dataset x_p3all (/home/scahyawijaya/.cache/huggingface/datasets/bigscience___x_p3all/ta/1.0.0/7240e93470cc8229a6e4c3d42b365eca012da5d8046ad4b0e5e23ca455bda5b1)\n"
     ]
    },
    {
     "data": {
      "application/vnd.jupyter.widget-view+json": {
       "model_id": "4b85c5f6ecb043738cb844d3ad8f501f",
       "version_major": 2,
       "version_minor": 0
      },
      "text/plain": [
       "  0%|          | 0/1 [00:00<?, ?it/s]"
      ]
     },
     "metadata": {},
     "output_type": "display_data"
    },
    {
     "name": "stderr",
     "output_type": "stream",
     "text": [
      "Loading cached split indices for dataset at /home/scahyawijaya/.cache/huggingface/datasets/bigscience___x_p3all/ta/1.0.0/7240e93470cc8229a6e4c3d42b365eca012da5d8046ad4b0e5e23ca455bda5b1/cache-64794465608f2091.arrow and /home/scahyawijaya/.cache/huggingface/datasets/bigscience___x_p3all/ta/1.0.0/7240e93470cc8229a6e4c3d42b365eca012da5d8046ad4b0e5e23ca455bda5b1/cache-8cc8ea527a96d05a.arrow\n",
      "Found cached dataset x_p3all (/home/scahyawijaya/.cache/huggingface/datasets/bigscience___x_p3all/te/1.0.0/7240e93470cc8229a6e4c3d42b365eca012da5d8046ad4b0e5e23ca455bda5b1)\n"
     ]
    },
    {
     "data": {
      "application/vnd.jupyter.widget-view+json": {
       "model_id": "a9b26b99ab5c4202a23242694b5f73b3",
       "version_major": 2,
       "version_minor": 0
      },
      "text/plain": [
       "  0%|          | 0/1 [00:00<?, ?it/s]"
      ]
     },
     "metadata": {},
     "output_type": "display_data"
    },
    {
     "name": "stderr",
     "output_type": "stream",
     "text": [
      "Loading cached split indices for dataset at /home/scahyawijaya/.cache/huggingface/datasets/bigscience___x_p3all/te/1.0.0/7240e93470cc8229a6e4c3d42b365eca012da5d8046ad4b0e5e23ca455bda5b1/cache-ceced356fb286e3e.arrow and /home/scahyawijaya/.cache/huggingface/datasets/bigscience___x_p3all/te/1.0.0/7240e93470cc8229a6e4c3d42b365eca012da5d8046ad4b0e5e23ca455bda5b1/cache-2cda81e22aeacdf2.arrow\n",
      "Found cached dataset x_p3all (/home/scahyawijaya/.cache/huggingface/datasets/bigscience___x_p3all/tn/1.0.0/7240e93470cc8229a6e4c3d42b365eca012da5d8046ad4b0e5e23ca455bda5b1)\n"
     ]
    },
    {
     "data": {
      "application/vnd.jupyter.widget-view+json": {
       "model_id": "3570bda13bda4c9f9616651c0c049b79",
       "version_major": 2,
       "version_minor": 0
      },
      "text/plain": [
       "  0%|          | 0/1 [00:00<?, ?it/s]"
      ]
     },
     "metadata": {},
     "output_type": "display_data"
    },
    {
     "name": "stderr",
     "output_type": "stream",
     "text": [
      "Loading cached split indices for dataset at /home/scahyawijaya/.cache/huggingface/datasets/bigscience___x_p3all/tn/1.0.0/7240e93470cc8229a6e4c3d42b365eca012da5d8046ad4b0e5e23ca455bda5b1/cache-c4e73d1b00cb5997.arrow and /home/scahyawijaya/.cache/huggingface/datasets/bigscience___x_p3all/tn/1.0.0/7240e93470cc8229a6e4c3d42b365eca012da5d8046ad4b0e5e23ca455bda5b1/cache-72e41496b909a9d4.arrow\n",
      "Found cached dataset x_p3all (/home/scahyawijaya/.cache/huggingface/datasets/bigscience___x_p3all/ts/1.0.0/7240e93470cc8229a6e4c3d42b365eca012da5d8046ad4b0e5e23ca455bda5b1)\n"
     ]
    },
    {
     "data": {
      "application/vnd.jupyter.widget-view+json": {
       "model_id": "20132a33e0dc4791ac11f22b1a384e8a",
       "version_major": 2,
       "version_minor": 0
      },
      "text/plain": [
       "  0%|          | 0/1 [00:00<?, ?it/s]"
      ]
     },
     "metadata": {},
     "output_type": "display_data"
    },
    {
     "name": "stderr",
     "output_type": "stream",
     "text": [
      "Loading cached split indices for dataset at /home/scahyawijaya/.cache/huggingface/datasets/bigscience___x_p3all/ts/1.0.0/7240e93470cc8229a6e4c3d42b365eca012da5d8046ad4b0e5e23ca455bda5b1/cache-41d1afeee9b5ac71.arrow and /home/scahyawijaya/.cache/huggingface/datasets/bigscience___x_p3all/ts/1.0.0/7240e93470cc8229a6e4c3d42b365eca012da5d8046ad4b0e5e23ca455bda5b1/cache-ef53ce255f6a0036.arrow\n",
      "Found cached dataset x_p3all (/home/scahyawijaya/.cache/huggingface/datasets/bigscience___x_p3all/tum/1.0.0/7240e93470cc8229a6e4c3d42b365eca012da5d8046ad4b0e5e23ca455bda5b1)\n"
     ]
    },
    {
     "data": {
      "application/vnd.jupyter.widget-view+json": {
       "model_id": "aa4962b738394bf0b6bec5080eb95142",
       "version_major": 2,
       "version_minor": 0
      },
      "text/plain": [
       "  0%|          | 0/1 [00:00<?, ?it/s]"
      ]
     },
     "metadata": {},
     "output_type": "display_data"
    },
    {
     "name": "stderr",
     "output_type": "stream",
     "text": [
      "Loading cached split indices for dataset at /home/scahyawijaya/.cache/huggingface/datasets/bigscience___x_p3all/tum/1.0.0/7240e93470cc8229a6e4c3d42b365eca012da5d8046ad4b0e5e23ca455bda5b1/cache-87a87c848eb3d9b0.arrow and /home/scahyawijaya/.cache/huggingface/datasets/bigscience___x_p3all/tum/1.0.0/7240e93470cc8229a6e4c3d42b365eca012da5d8046ad4b0e5e23ca455bda5b1/cache-3ece674bff62a31a.arrow\n",
      "Found cached dataset x_p3all (/home/scahyawijaya/.cache/huggingface/datasets/bigscience___x_p3all/tw/1.0.0/7240e93470cc8229a6e4c3d42b365eca012da5d8046ad4b0e5e23ca455bda5b1)\n"
     ]
    },
    {
     "data": {
      "application/vnd.jupyter.widget-view+json": {
       "model_id": "aeb62268a9624b55b3c82e1de57fcd28",
       "version_major": 2,
       "version_minor": 0
      },
      "text/plain": [
       "  0%|          | 0/1 [00:00<?, ?it/s]"
      ]
     },
     "metadata": {},
     "output_type": "display_data"
    },
    {
     "name": "stderr",
     "output_type": "stream",
     "text": [
      "Loading cached split indices for dataset at /home/scahyawijaya/.cache/huggingface/datasets/bigscience___x_p3all/tw/1.0.0/7240e93470cc8229a6e4c3d42b365eca012da5d8046ad4b0e5e23ca455bda5b1/cache-c8bed1ad2e6b32a1.arrow and /home/scahyawijaya/.cache/huggingface/datasets/bigscience___x_p3all/tw/1.0.0/7240e93470cc8229a6e4c3d42b365eca012da5d8046ad4b0e5e23ca455bda5b1/cache-803fc49e6cfa8b04.arrow\n",
      "Found cached dataset x_p3all (/home/scahyawijaya/.cache/huggingface/datasets/bigscience___x_p3all/ur/1.0.0/7240e93470cc8229a6e4c3d42b365eca012da5d8046ad4b0e5e23ca455bda5b1)\n"
     ]
    },
    {
     "data": {
      "application/vnd.jupyter.widget-view+json": {
       "model_id": "72d0740fbede4668889915ed76138d09",
       "version_major": 2,
       "version_minor": 0
      },
      "text/plain": [
       "  0%|          | 0/1 [00:00<?, ?it/s]"
      ]
     },
     "metadata": {},
     "output_type": "display_data"
    },
    {
     "name": "stderr",
     "output_type": "stream",
     "text": [
      "Loading cached split indices for dataset at /home/scahyawijaya/.cache/huggingface/datasets/bigscience___x_p3all/ur/1.0.0/7240e93470cc8229a6e4c3d42b365eca012da5d8046ad4b0e5e23ca455bda5b1/cache-f4a8ca77d0f04ea5.arrow and /home/scahyawijaya/.cache/huggingface/datasets/bigscience___x_p3all/ur/1.0.0/7240e93470cc8229a6e4c3d42b365eca012da5d8046ad4b0e5e23ca455bda5b1/cache-ec6f101ed9bb55ac.arrow\n",
      "Found cached dataset x_p3all (/home/scahyawijaya/.cache/huggingface/datasets/bigscience___x_p3all/vi/1.0.0/7240e93470cc8229a6e4c3d42b365eca012da5d8046ad4b0e5e23ca455bda5b1)\n"
     ]
    },
    {
     "data": {
      "application/vnd.jupyter.widget-view+json": {
       "model_id": "c3158bd5a6c0448c9247a83ef07ffdbd",
       "version_major": 2,
       "version_minor": 0
      },
      "text/plain": [
       "  0%|          | 0/1 [00:00<?, ?it/s]"
      ]
     },
     "metadata": {},
     "output_type": "display_data"
    },
    {
     "name": "stderr",
     "output_type": "stream",
     "text": [
      "Loading cached split indices for dataset at /home/scahyawijaya/.cache/huggingface/datasets/bigscience___x_p3all/vi/1.0.0/7240e93470cc8229a6e4c3d42b365eca012da5d8046ad4b0e5e23ca455bda5b1/cache-f52bf545e8a9d9b6.arrow and /home/scahyawijaya/.cache/huggingface/datasets/bigscience___x_p3all/vi/1.0.0/7240e93470cc8229a6e4c3d42b365eca012da5d8046ad4b0e5e23ca455bda5b1/cache-a995cdb517e3d342.arrow\n",
      "Found cached dataset x_p3all (/home/scahyawijaya/.cache/huggingface/datasets/bigscience___x_p3all/wo/1.0.0/7240e93470cc8229a6e4c3d42b365eca012da5d8046ad4b0e5e23ca455bda5b1)\n"
     ]
    },
    {
     "data": {
      "application/vnd.jupyter.widget-view+json": {
       "model_id": "d06ab69cfacb403ba0a69c5d83c2449a",
       "version_major": 2,
       "version_minor": 0
      },
      "text/plain": [
       "  0%|          | 0/1 [00:00<?, ?it/s]"
      ]
     },
     "metadata": {},
     "output_type": "display_data"
    },
    {
     "name": "stderr",
     "output_type": "stream",
     "text": [
      "Loading cached split indices for dataset at /home/scahyawijaya/.cache/huggingface/datasets/bigscience___x_p3all/wo/1.0.0/7240e93470cc8229a6e4c3d42b365eca012da5d8046ad4b0e5e23ca455bda5b1/cache-5ba18117492808b7.arrow and /home/scahyawijaya/.cache/huggingface/datasets/bigscience___x_p3all/wo/1.0.0/7240e93470cc8229a6e4c3d42b365eca012da5d8046ad4b0e5e23ca455bda5b1/cache-0eb51a52b5cbf813.arrow\n",
      "Found cached dataset x_p3all (/home/scahyawijaya/.cache/huggingface/datasets/bigscience___x_p3all/xh/1.0.0/7240e93470cc8229a6e4c3d42b365eca012da5d8046ad4b0e5e23ca455bda5b1)\n"
     ]
    },
    {
     "data": {
      "application/vnd.jupyter.widget-view+json": {
       "model_id": "1dbfc8c3c405468dbeee5c4bdb89fb4f",
       "version_major": 2,
       "version_minor": 0
      },
      "text/plain": [
       "  0%|          | 0/1 [00:00<?, ?it/s]"
      ]
     },
     "metadata": {},
     "output_type": "display_data"
    },
    {
     "name": "stderr",
     "output_type": "stream",
     "text": [
      "Loading cached split indices for dataset at /home/scahyawijaya/.cache/huggingface/datasets/bigscience___x_p3all/xh/1.0.0/7240e93470cc8229a6e4c3d42b365eca012da5d8046ad4b0e5e23ca455bda5b1/cache-85c6f356eeb8c79a.arrow and /home/scahyawijaya/.cache/huggingface/datasets/bigscience___x_p3all/xh/1.0.0/7240e93470cc8229a6e4c3d42b365eca012da5d8046ad4b0e5e23ca455bda5b1/cache-5a4b02996506ab2d.arrow\n",
      "Found cached dataset x_p3all (/home/scahyawijaya/.cache/huggingface/datasets/bigscience___x_p3all/yo/1.0.0/7240e93470cc8229a6e4c3d42b365eca012da5d8046ad4b0e5e23ca455bda5b1)\n"
     ]
    },
    {
     "data": {
      "application/vnd.jupyter.widget-view+json": {
       "model_id": "0ff56f62a19f40f7a0e48549047f30ec",
       "version_major": 2,
       "version_minor": 0
      },
      "text/plain": [
       "  0%|          | 0/1 [00:00<?, ?it/s]"
      ]
     },
     "metadata": {},
     "output_type": "display_data"
    },
    {
     "name": "stderr",
     "output_type": "stream",
     "text": [
      "Loading cached split indices for dataset at /home/scahyawijaya/.cache/huggingface/datasets/bigscience___x_p3all/yo/1.0.0/7240e93470cc8229a6e4c3d42b365eca012da5d8046ad4b0e5e23ca455bda5b1/cache-ff5e962da1cce262.arrow and /home/scahyawijaya/.cache/huggingface/datasets/bigscience___x_p3all/yo/1.0.0/7240e93470cc8229a6e4c3d42b365eca012da5d8046ad4b0e5e23ca455bda5b1/cache-066fee8ae99bf898.arrow\n",
      "Found cached dataset x_p3all (/home/scahyawijaya/.cache/huggingface/datasets/bigscience___x_p3all/zh/1.0.0/7240e93470cc8229a6e4c3d42b365eca012da5d8046ad4b0e5e23ca455bda5b1)\n"
     ]
    },
    {
     "data": {
      "application/vnd.jupyter.widget-view+json": {
       "model_id": "6a2929d33fa94150a8ea9b6c61e7731d",
       "version_major": 2,
       "version_minor": 0
      },
      "text/plain": [
       "  0%|          | 0/1 [00:00<?, ?it/s]"
      ]
     },
     "metadata": {},
     "output_type": "display_data"
    },
    {
     "name": "stderr",
     "output_type": "stream",
     "text": [
      "Loading cached split indices for dataset at /home/scahyawijaya/.cache/huggingface/datasets/bigscience___x_p3all/zh/1.0.0/7240e93470cc8229a6e4c3d42b365eca012da5d8046ad4b0e5e23ca455bda5b1/cache-e2fcc8336017f6f2.arrow and /home/scahyawijaya/.cache/huggingface/datasets/bigscience___x_p3all/zh/1.0.0/7240e93470cc8229a6e4c3d42b365eca012da5d8046ad4b0e5e23ca455bda5b1/cache-849f4c1c4e51814a.arrow\n",
      "Found cached dataset x_p3all (/home/scahyawijaya/.cache/huggingface/datasets/bigscience___x_p3all/zu/1.0.0/7240e93470cc8229a6e4c3d42b365eca012da5d8046ad4b0e5e23ca455bda5b1)\n"
     ]
    },
    {
     "data": {
      "application/vnd.jupyter.widget-view+json": {
       "model_id": "2214abcd8a2849f4bf210d1449ce48d4",
       "version_major": 2,
       "version_minor": 0
      },
      "text/plain": [
       "  0%|          | 0/1 [00:00<?, ?it/s]"
      ]
     },
     "metadata": {},
     "output_type": "display_data"
    },
    {
     "name": "stderr",
     "output_type": "stream",
     "text": [
      "Loading cached split indices for dataset at /home/scahyawijaya/.cache/huggingface/datasets/bigscience___x_p3all/zu/1.0.0/7240e93470cc8229a6e4c3d42b365eca012da5d8046ad4b0e5e23ca455bda5b1/cache-de27edf14d29f4ba.arrow and /home/scahyawijaya/.cache/huggingface/datasets/bigscience___x_p3all/zu/1.0.0/7240e93470cc8229a6e4c3d42b365eca012da5d8046ad4b0e5e23ca455bda5b1/cache-5036681abda21762.arrow\n"
     ]
    }
   ],
   "source": [
    "dsets = {}\n",
    "for subset in [\n",
    "    'ak', 'ar', 'as', 'bm', 'bn', 'ca', 'code', 'en', 'es', 'eu', 'fon',\n",
    "    'fr', 'gu', 'hi', 'id', 'ig', 'ki', 'kn', 'lg', 'ln', 'ml', 'mr', 'ne', \n",
    "    'nso', 'ny', 'or', 'pa', 'pt', 'rn', 'rw', 'sn', 'st', 'sw', 'ta', 'te', \n",
    "    'tn', 'ts', 'tum', 'tw', 'ur', 'vi', 'wo', 'xh', 'yo', 'zh', 'zu'\n",
    "]:\n",
    "    dset = datasets.load_dataset('bigscience/xP3all', subset)['train']\n",
    "    for size in [1800000, 1200000, 720000, 360000, 180000, 80000]:\n",
    "        if size > len(dset):\n",
    "            continue\n",
    "        dsets[f'{subset}_{size}'] = dset.train_test_split(test_size=size, shuffle=True, seed=14045)['test']"
   ]
  },
  {
   "cell_type": "code",
   "execution_count": null,
   "id": "94371012-b1be-43a4-8909-e2acf307bd03",
   "metadata": {},
   "outputs": [],
   "source": []
  }
 ],
 "metadata": {
  "kernelspec": {
   "display_name": "Python 3 (ipykernel)",
   "language": "python",
   "name": "python3"
  },
  "language_info": {
   "codemirror_mode": {
    "name": "ipython",
    "version": 3
   },
   "file_extension": ".py",
   "mimetype": "text/x-python",
   "name": "python",
   "nbconvert_exporter": "python",
   "pygments_lexer": "ipython3",
   "version": "3.11.5"
  }
 },
 "nbformat": 4,
 "nbformat_minor": 5
}
