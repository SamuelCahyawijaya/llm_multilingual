{
 "cells": [
  {
   "cell_type": "code",
   "execution_count": 1,
   "id": "ec59b40e-2b8d-4c59-931f-6ace52fb82f3",
   "metadata": {},
   "outputs": [],
   "source": [
    "from collections import defaultdict\n",
    "import jsonlines\n",
    "# get_gpt_generation() function from utils\n",
    "from utils import * "
   ]
  },
  {
   "cell_type": "code",
   "execution_count": 11,
   "id": "bad11cbe-5053-4a2a-b065-d200e63e4d93",
   "metadata": {},
   "outputs": [],
   "source": [
    "from src.machine_translation import *\n",
    "import evaluate\n",
    "chrf = evaluate.load(\"chrf\")"
   ]
  },
  {
   "cell_type": "markdown",
   "id": "51e42ea8-1b64-4046-b9db-3f70387ffbc4",
   "metadata": {},
   "source": [
    "# Prompting"
   ]
  },
  {
   "cell_type": "code",
   "execution_count": 3,
   "id": "cd0062ad-9c7f-4f42-a996-609b93569ed8",
   "metadata": {},
   "outputs": [],
   "source": [
    "\n",
    "def machine_translation(test_examples):\n",
    "    answers = defaultdict(list)\n",
    "    \n",
    "    for ex in test_examples:\n",
    "        to_eng = ex['to_eng']\n",
    "        to_oth = ex['to_oth']\n",
    "    \n",
    "        eng = ex['eng']\n",
    "        oth = ex['oth']\n",
    "        \n",
    "        ###### HERE YOU CAN CHANGE IT TO YOUR OWN MODELS########\n",
    "        gen_to_eng = get_gpt_generation(to_eng)\n",
    "        gen_to_oth = get_gpt_generation(to_oth)\n",
    "        ########################################################\n",
    "    \n",
    "        ex['gen_to_eng']= gen_to_eng\n",
    "        ex['gen_to_oth']= gen_to_oth\n",
    "    \n",
    "        with jsonlines.open('results/machine_translation.jsonl', mode='a') as writer:\n",
    "            writer.write(ex) "
   ]
  },
  {
   "cell_type": "code",
   "execution_count": null,
   "id": "540cb1a3-c3ac-4e87-a568-bc543ee42a51",
   "metadata": {},
   "outputs": [],
   "source": [
    "test_examples, test_ids = flores_mt()\n",
    "machine_translation(test_examples)"
   ]
  },
  {
   "cell_type": "markdown",
   "id": "ac9b75a3-b80e-4122-8524-c75d41359e82",
   "metadata": {},
   "source": [
    "# Scoring"
   ]
  },
  {
   "cell_type": "code",
   "execution_count": null,
   "id": "64dd9339-3147-4c56-ab2b-daa1f86a5fd3",
   "metadata": {},
   "outputs": [],
   "source": [
    "pairs = ['eng_Latn-zho_Hans',\n",
    " 'eng_Latn-kor_Hang',\n",
    " 'eng_Latn-jpn_Jpan',\n",
    " 'eng_Latn-fra_Latn',\n",
    " 'eng_Latn-spa_Latn',\n",
    " 'eng_Latn-ind_Latn',\n",
    " 'eng_Latn-vie_Latn',\n",
    " 'eng_Latn-arb_Arab',\n",
    " 'eng_Latn-jav_Latn',\n",
    " 'eng_Latn-sun_Latn',\n",
    " 'eng_Latn-bug_Latn']"
   ]
  },
  {
   "cell_type": "code",
   "execution_count": 8,
   "id": "0e4afb63-81a7-4491-b6a5-94e40cf96de9",
   "metadata": {},
   "outputs": [],
   "source": [
    "objs = []\n",
    "with jsonlines.open('machine_translation.jsonl') as read_file:\n",
    "    for line in read_file.iter():\n",
    "    \tobjs.append(line)\n",
    "\n",
    "lang_per_result = defaultdict(list)\n",
    "for obj in objs:\n",
    "    lang_per_result[obj['lang_pair']].append(obj)"
   ]
  },
  {
   "cell_type": "code",
   "execution_count": 12,
   "id": "1014267a-32a3-4d64-882f-ccd4b6777a13",
   "metadata": {},
   "outputs": [
    {
     "name": "stdout",
     "output_type": "stream",
     "text": [
      "dict_keys(['id', 'lang_pair', 'domain', 'topic', 'eng', 'oth', 'to_eng', 'to_eng_ref', 'to_oth', 'to_oth_ref', 'gen_to_eng', 'gen_to_oth'])\n"
     ]
    }
   ],
   "source": [
    "results_to_eng = {}\n",
    "results_to_oth = {}\n",
    "\n",
    "for target in pairs:\n",
    "    \n",
    "    prediction_to_eng = [x['gen_to_eng'] for x in lang_per_result[target]]\n",
    "    ref_to_eng = [[x['eng']] for x in lang_per_result[target]]\n",
    "    results_to_eng[target] = chrf.compute(predictions=prediction_to_eng, references=ref_to_eng)['score']\n",
    "    \n",
    "    prediction_to_oth = [x['gen_to_oth'] for x in lang_per_result[target]]\n",
    "    ref_to_oth = [[x['oth']] for x in lang_per_result[target]]\n",
    "    results_to_oth[target] = chrf.compute(predictions=prediction_to_oth, references=ref_to_oth)['score']\n"
   ]
  },
  {
   "cell_type": "markdown",
   "id": "d2afe627-80ec-4c41-9989-d360e92d6103",
   "metadata": {},
   "source": [
    "## Read results"
   ]
  },
  {
   "cell_type": "code",
   "execution_count": 14,
   "id": "3cf250c4-0963-4423-a3dd-3a80d5639464",
   "metadata": {},
   "outputs": [],
   "source": [
    "high = ['eng_Latn-zho_Hans',\n",
    " 'eng_Latn-kor_Hang',\n",
    " 'eng_Latn-jpn_Jpan',\n",
    " 'eng_Latn-fra_Latn',\n",
    " 'eng_Latn-spa_Latn',\n",
    " 'eng_Latn-ind_Latn',\n",
    " 'eng_Latn-vie_Latn',\n",
    " 'eng_Latn-arb_Arab']\n",
    "\n",
    "low = [ 'eng_Latn-jav_Latn',\n",
    " 'eng_Latn-sun_Latn',\n",
    " 'eng_Latn-bug_Latn']\n",
    "    "
   ]
  },
  {
   "cell_type": "code",
   "execution_count": 19,
   "id": "3f4e5e3c-0a25-40c2-8285-7d0e390585e8",
   "metadata": {},
   "outputs": [
    {
     "name": "stdout",
     "output_type": "stream",
     "text": [
      "High: xxx->eng ||  63.247\n",
      "Low: xxx->eng ||  39.026\n"
     ]
    }
   ],
   "source": [
    "result_high_to_eng = 0\n",
    "for h in high:\n",
    "    result_high_to_eng+=results_to_eng[h]\n",
    "print(\"High: xxx->eng || \", round(result_high_to_eng/len(high),3))\n",
    "\n",
    "result_low_to_eng = 0\n",
    "for l in low:\n",
    "    result_low_to_eng+=results_to_eng[l]\n",
    "print(r\"Low: xxx->eng || \", round(result_low_to_eng/len(low), 3))"
   ]
  },
  {
   "cell_type": "code",
   "execution_count": 20,
   "id": "72e60332-1ef2-4f82-9673-dca40cbda314",
   "metadata": {},
   "outputs": [
    {
     "name": "stdout",
     "output_type": "stream",
     "text": [
      "High: eng->xxx ||  55.027\n",
      "Low: eng->xxx ||  37.926\n"
     ]
    }
   ],
   "source": [
    "result_high_to_oth = 0\n",
    "for h in high:\n",
    "    result_high_to_oth+=results_to_oth[h]\n",
    "print(\"High: eng->xxx || \", round(result_high_to_oth/len(high),3))\n",
    "\n",
    "result_low_to_oth = 0\n",
    "for l in low:\n",
    "    result_low_to_oth+=results_to_oth[l]\n",
    "print(r\"Low: eng->xxx || \", round(result_low_to_oth/len(low), 3))"
   ]
  },
  {
   "cell_type": "code",
   "execution_count": null,
   "id": "1a3608e6-b2fc-42e1-8d6b-2d6f1e64958b",
   "metadata": {},
   "outputs": [],
   "source": []
  }
 ],
 "metadata": {
  "kernelspec": {
   "display_name": "Python 3 (ipykernel)",
   "language": "python",
   "name": "python3"
  },
  "language_info": {
   "codemirror_mode": {
    "name": "ipython",
    "version": 3
   },
   "file_extension": ".py",
   "mimetype": "text/x-python",
   "name": "python",
   "nbconvert_exporter": "python",
   "pygments_lexer": "ipython3",
   "version": "3.10.13"
  }
 },
 "nbformat": 4,
 "nbformat_minor": 5
}
